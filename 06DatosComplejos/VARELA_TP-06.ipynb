{
 "cells": [
  {
   "cell_type": "markdown",
   "id": "59cd5a13",
   "metadata": {},
   "source": [
    "**Trabajo práctico Nº6 - Estructuras de datos complejas**\n",
    "Varela Santiago Octavio (Comisión 22)\n",
    "\n",
    "- **Resolución del trabajo práctico Nº6 al 2025-06-21**\n",
    "\n",
    "- **Estará también en [VARELA_TP-06.py](https://github.com/santiagovOK/UTN-TUPaD-P1/tree/main/06DatosComplejos/VARELA_TP-06.py)**"
   ]
  },
  {
   "cell_type": "markdown",
   "id": "04b8fe46",
   "metadata": {},
   "source": [
    "1) Dado el diccionario `precios_frutas` \n",
    "\n",
    "`precios_frutas = {'Banana': 1200, 'Ananá': 2500, 'Melón': 3000, 'Uva':\n",
    "1450}`\n",
    "\n",
    "Añadir las siguientes frutas con sus respectivos precios:\n",
    "\n",
    "●​ Naranja = 1200\n",
    "●​ Manzana = 1500\n",
    "●​ Pera = 2300"
   ]
  },
  {
   "cell_type": "code",
   "execution_count": null,
   "id": "50664b24",
   "metadata": {},
   "outputs": [],
   "source": [
    "# Establecemos el diccionario con los precios de las frutas\n",
    "precios_frutas = {'Banana': 1200, 'Ananá': 2500, 'Melón': 3000, 'Uva': 1450}\n",
    "\n",
    "# Añadimos nuevas llaves y valores al diccionario según el enunciado\n",
    "precios_frutas.update({'Naranja': 1200, 'Manzana': 1500, 'Pera': 2300})\n",
    "\n",
    "# Imprimimos el diccionario actualizado\n",
    "print(precios_frutas)"
   ]
  },
  {
   "cell_type": "markdown",
   "id": "cd3afdd4",
   "metadata": {},
   "source": [
    "2) Siguiendo con el diccionario `precios_frutas` que resulta luego de ejecutar el código  desarrollado en el punto anterior, actualizar los precios de las siguientes frutas:\n",
    "\n",
    "●​ Banana = 1330\n",
    "●​ Manzana = 1700\n",
    "●​ Melón = 2800"
   ]
  },
  {
   "cell_type": "code",
   "execution_count": null,
   "id": "cbd5d04f",
   "metadata": {},
   "outputs": [],
   "source": [
    "# Establecemos el diccionario con los precios de las frutas\n",
    "precios_frutas = {'Banana': 1200, 'Ananá': 2500, 'Melón': 3000, 'Uva': 1450}\n",
    "\n",
    "# Añadimos nuevas llaves y valores al diccionario según el enunciado\n",
    "precios_frutas.update({'Naranja': 1200, 'Manzana': 1500, 'Pera': 2300})\n",
    "\n",
    "# Imprimimos el diccionario actualizado\n",
    "print(f\"Precio luego de añadir las nuevas frutas: {precios_frutas}\")\n",
    "\n",
    "# Actualizamos los precios de las frutas según el enunciado 2)\n",
    "\n",
    "precios_frutas.update({'Banana': 1330, 'Manzana':1700, 'Melón': 2800})\n",
    "\n",
    "# Imprimimos el diccionario actualizado\n",
    "print(f\"\\nPrecio luego de actualizar los precios de las frutas según enunciado 2): {precios_frutas}\")"
   ]
  },
  {
   "cell_type": "markdown",
   "id": "1c4655b9",
   "metadata": {},
   "source": [
    "3) Siguiendo con el diccionario `precios_frutas` que resulta luego de ejecutar el código desarrollado en el punto anterior, crear una lista que contenga únicamente las frutas sin los precios."
   ]
  },
  {
   "cell_type": "code",
   "execution_count": null,
   "id": "1fd8523a",
   "metadata": {},
   "outputs": [],
   "source": [
    "# Establecemos el diccionario con los precios de las frutas\n",
    "precios_frutas = {'Banana': 1200, 'Ananá': 2500, 'Melón': 3000, 'Uva': 1450}\n",
    "\n",
    "# Añadimos nuevas llaves y valores al diccionario según el enunciado\n",
    "precios_frutas.update({'Naranja': 1200, 'Manzana': 1500, 'Pera': 2300})\n",
    "\n",
    "# Imprimimos el diccionario actualizado\n",
    "print(f\"Precio luego de añadir las nuevas frutas: {precios_frutas}\")\n",
    "\n",
    "# Actualizamos los precios de las frutas según el enunciado 2)\n",
    "\n",
    "precios_frutas.update({'Banana': 1330, 'Manzana':1700, 'Melón': 2800})\n",
    "\n",
    "print(f\"\\nPrecio luego de actualizar los precios de las frutas según enunciado 2): {precios_frutas}\")\n",
    "\n",
    "# Creamos una lista con los nombres de las frutas\n",
    "\n",
    "frutas = list(precios_frutas.keys())\n",
    "\n",
    "# Imprimimos la lista de frutas, que solo contiene los nombres de las frutas\n",
    "\n",
    "print(f\"\\nLista de frutas: {frutas} que es de tipo '{type(frutas)}'\")"
   ]
  },
  {
   "cell_type": "markdown",
   "id": "2ad309b8",
   "metadata": {},
   "source": [
    "4) Escribí un programa que permita almacenar y consultar números telefónicos.\n",
    "•Permití al usuario cargar 5 contactos con su nombre como clave y número como valor.\n",
    "•Luego, pedí un nombre y mostrale el número asociado, si existe. Ejemplo (ver en PDF)"
   ]
  },
  {
   "cell_type": "code",
   "execution_count": null,
   "id": "f1359fb9",
   "metadata": {},
   "outputs": [],
   "source": [
    "# Creamos un diccionario vacío para almacenar los contactos\n",
    "contactos = {}\n",
    "\n",
    "\n",
    "print(\"Cargá 5 contactos con su número telefónico:\")\n",
    "\n",
    "# Cargamos los 5 contactos usando un bucle `for`\n",
    "\n",
    "for i in range(5):\n",
    "    nombre = input(f\"Ingresá el nombre del contacto {i+1}: \")\n",
    "    telefono = input(f\"Ingresá el número de {nombre}: \")\n",
    "    contactos[nombre] = telefono\n",
    "\n",
    "# Mostramos todos los contactos ingresados yendo item por item del diccionario\n",
    "\n",
    "print(\"\\nLista de contactos cargados:\")\n",
    "\n",
    "for contacto, telefono in contactos.items():\n",
    "    print(f\"Contacto: {contacto}, Teléfono: {telefono}\")\n",
    "\n",
    "# Agregamos la posibilidad de consultar un número por nombre\n",
    "\n",
    "consulta = input(\"\\nIngresá el nombre que querés buscar: \")\n",
    "\n",
    "# Verificamos si el contacto existe en el diccionario y mostramos el número correspondiente\n",
    "if consulta in contactos:\n",
    "    print(f\"El número de {consulta} es: {contactos[consulta]}\")\n",
    "else:\n",
    "    print(f\"No se encontró el contacto '{consulta}'.\")\n",
    "\n"
   ]
  },
  {
   "cell_type": "markdown",
   "id": "eec87b59",
   "metadata": {},
   "source": [
    "5) Solicita al usuario una frase e imprime:\n",
    "•Las palabras únicas (usando un set).\n",
    "•Un diccionario con la cantidad de veces que aparece cada palabra. Ejemplo (ver en PDF)"
   ]
  },
  {
   "cell_type": "code",
   "execution_count": null,
   "id": "f6f1188f",
   "metadata": {},
   "outputs": [],
   "source": [
    "# Solicitamos una frase al usuario\n",
    "frase = input(\"Introduce una frase: \")\n",
    "\n",
    "# Separamos las palabras con split()\n",
    "palabras = frase.split() \n",
    "# Creamos un set para las palabras únicas y un diccionario para contar las apariciones\n",
    "palabras_unicas = set(palabras)\n",
    "# Creamos un diccionario para contar las apariciones de cada palabra\n",
    "contador_palabras = {}\n",
    "\n",
    "# Contamos las apariciones de cada palabra con un bucle `for`\n",
    "for palabra in palabras:\n",
    "    # Si la palabra ya está en el diccionario, incrementamos su contador\n",
    "    if palabra in contador_palabras:\n",
    "        contador_palabras[palabra] += 1\n",
    "    # Si no está, la añadimos con un contador inicial de 1\n",
    "    else:\n",
    "        contador_palabras[palabra] = 1\n",
    "\n",
    "# Imprimimos los resultados\n",
    "print(\"Palabras únicas:\", palabras_unicas)\n",
    "print(\"Cantidad de veces que aparece cada palabra:\", contador_palabras)\n"
   ]
  },
  {
   "cell_type": "markdown",
   "id": "ad7ddeb1",
   "metadata": {},
   "source": [
    "6) Permití ingresar los nombres de 3 alumnos, y para cada uno una tupla de 3 notas.\n",
    "Luego, mostrá el promedio de cada alumno. Ejemplo (ver en PDF)"
   ]
  },
  {
   "cell_type": "code",
   "execution_count": null,
   "id": "77f908d4",
   "metadata": {},
   "outputs": [],
   "source": [
    "# Creamos un diccionario para almacenar los alumnos y sus notas\n",
    "alumnos = {}\n",
    "\n",
    "# Recolectamos datos de los 3 alumnos con un bucle `for` que itera 3 veces\n",
    "for i in range(3):\n",
    "    # Almacenamos el nombre del alumno y sumamos 1 al contador\n",
    "    nombre = input(f\"Ingrese el nombre del alumno {i+1}: \")\n",
    "    # Almacenamos las notas como una tupla de enteros, separadas por espacios con `map` y split()\n",
    "    notas = tuple(map(int, input(f\"Ingrese las 3 notas de {nombre}, separadas por espacios: \").split()))\n",
    "    # Verificamos que se hayan ingresado exactamente 3 notas\n",
    "    alumnos[nombre] = notas\n",
    "\n",
    "# Mostramos los promedios de cada alumno, que se calcularán sumando las notas y dividiendo por la cantidad de notas en cada caso\n",
    "print(\"\\n--- Promedios ---\")\n",
    "for nombre, notas in alumnos.items():\n",
    "    promedio = sum(notas) / len(notas)\n",
    "    print(f\"{nombre}: {promedio:.2f}\") # 2f es para mostrar 2 decimales\n"
   ]
  },
  {
   "cell_type": "markdown",
   "id": "b4465dd4",
   "metadata": {},
   "source": [
    "7) Dado dos sets de números, representando dos listas de estudiantes que aprobaron Parcial 1 y Parcial 2:\n",
    "\n",
    "•Mostrá los que aprobaron ambos parciales.\n",
    "•Mostrá los que aprobaron solo uno de los dos.\n",
    "•Mostrá la lista total de estudiantes que aprobaron al menos un parcial (sin repetir)."
   ]
  },
  {
   "cell_type": "code",
   "execution_count": null,
   "id": "2a82b2a7",
   "metadata": {},
   "outputs": [],
   "source": [
    "# Definimos los sets de estudiantes aprobados en cada parcial\n",
    "parcial1 = {\"Ana\", \"Luis\", \"Pedro\", \"María\"}\n",
    "parcial2 = {\"Pedro\", \"María\", \"Sofía\", \"Tomás\"}\n",
    "\n",
    "# Definimos los estudiantes que aprobaron ambos parciales con la intersección de ambos conjuntos (usado en matemática para el integrador)\n",
    "ambos = parcial1 & parcial2 # también se puede usar .intersection()\n",
    "\n",
    "# Definimos los estudiantes que aprobaron solo uno de los dos con la diferencia simétrica de ambos conjuntos (usado en matemática para el integrador)\n",
    "solo_uno = parcial1 ^ parcial2  # también se puede usar .symmetric_difference()\n",
    "\n",
    "# Definimos los estudiantes que aprobaron al menos uno de los parciales con la unión de ambos conjuntos (usado en matemática para el integrador)\n",
    "al_menos_uno = parcial1 | parcial2  # también se puede usar .union()\n",
    "\n",
    "# Mostramos los resultados\n",
    "print(f\"\\nAprobados en ambos parciales: {ambos}\")\n",
    "print(f\"\\nAprobados sólo en uno de los parciales: {solo_uno}\")\n",
    "print(f\"\\nTotal de estudiantes que aprobaron al menos un parcial: {al_menos_uno}\\n\")"
   ]
  },
  {
   "cell_type": "markdown",
   "id": "85267adf",
   "metadata": {},
   "source": [
    "8) Armá un diccionario donde las claves sean nombres de productos y los valores su stock.\n",
    "Permití al usuario:\n",
    "•Consultar el stock de un producto ingresado.\n",
    "•Agregar unidades al stock si el producto ya existe.\n",
    "•Agregar un nuevo producto si no existe."
   ]
  },
  {
   "cell_type": "code",
   "execution_count": null,
   "id": "5e56a008",
   "metadata": {},
   "outputs": [],
   "source": [
    "# Creamos el diccionario de productos y stock para ya comenzar con algunos valores en el inventario.\n",
    "stock = {\n",
    "    \"pan\": 10,\n",
    "    \"leche\": 5,\n",
    "    \"huevos\": 12\n",
    "}\n",
    "\n",
    "bandera = True\n",
    "# Creamos un bucle `while` para mostrar el menú y permitir al usuario interactuar con el inventario.\n",
    "\n",
    "while bandera:\n",
    "    # Mostramos el menú de opciones al usuario.\n",
    "    print(\"\\n--- Menú ---\")\n",
    "    print(\"1. Consultar stock (por producto)\")\n",
    "    print(\"2. Agregar unidades al stock\")\n",
    "    print(\"3. Agregar nuevo producto\")\n",
    "    print(\"4. Ver stock actual en general\")\n",
    "    print(\"5. Salir\")\n",
    "\n",
    "    # Pedimos al usuario que seleccione una opción que se almacenará en `opción`\n",
    "    opcion = input(\"Seleccioná una opción (1-5): \")\n",
    "\n",
    "    # Usamos estructuras condicionales para manejar cada opción del menú\n",
    "    if opcion == \"1\":\n",
    "        producto = input(\"Ingresá el nombre del producto: \").lower() # usamos `.lower()` para evitar problemas con mayúsculas y minúsculas.\n",
    "        # Verificamos si el producto está en el inventario o no con otra estructura condicional anidada\n",
    "        if producto in stock:\n",
    "            print(f\"Stock de {producto}: {stock[producto]}\")\n",
    "        else:\n",
    "            print(\"El producto no está en el inventario.\")\n",
    "\n",
    "    elif opcion == \"2\":\n",
    "        producto = input(\"Ingresá el nombre del producto: \").lower()\n",
    "        # Verificamos si el producto está en el inventario o no con otra estructura condicional anidada\n",
    "        if producto in stock:\n",
    "            # Esta vez pedimos la cantidad de unidades a agregar\n",
    "            cantidad = int(input(f\"¿Cuántas unidades agregar a {producto}? \"))\n",
    "            # Actualizamos el stock del producto\n",
    "            stock[producto] += cantidad\n",
    "            print(f\"Ahora hay {stock[producto]} unidades de {producto}.\")\n",
    "        else:\n",
    "            print(\"El producto no existe. Use la opción 3 para agregarlo.\")\n",
    "\n",
    "    elif opcion == \"3\":\n",
    "        # Le damos la opción al usuario de agregar un nuevo producto al inventario\n",
    "        producto = input(\"Ingresá el nuevo producto: \").lower()\n",
    "        # Verificamos si el producto está en el inventario o no con otra estructura condicional anidada\n",
    "        if producto not in stock:\n",
    "            # Pedimos la cantidad inicial del producto si no está en stock\n",
    "            cantidad = int(input(\"Ingresá la cantidad inicial: \"))\n",
    "            # Agregamos el producto al inventario con su cantidad\n",
    "            stock[producto] = cantidad\n",
    "            print(f\"Producto {producto} agregado con {cantidad} unidades.\")\n",
    "        else:\n",
    "            print(\"ℹEl producto ya existe. Usá la opción 2 para agregar unidades.\")\n",
    "\n",
    "    elif opcion == \"4\":\n",
    "        # Mostramos el stock actual\n",
    "        print(\"\\n--- Stock Actual ---\")\n",
    "        for producto, cantidad in stock.items(): # Iteramos sobre el diccionario con items()\n",
    "            print(f\"{producto}: {cantidad}\")\n",
    "\n",
    "    elif opcion == \"5\":\n",
    "        # Finalizamos el programa cambiando `bandera` a `False`\n",
    "        print(\"Programa finalizado.\")\n",
    "        bandera = False\n",
    "    else:\n",
    "        print(\"Opción inválida.\")"
   ]
  },
  {
   "cell_type": "markdown",
   "id": "c726b8f9",
   "metadata": {},
   "source": [
    "\n",
    "9) Creá una agenda donde las claves sean tuplas de (día, hora) y los valores sean eventos.\n",
    "\n",
    "Ejemplo (ver en PDF)\n",
    "\n",
    "Permití consultar qué actividad hay en cierto día y hora.\n"
   ]
  },
  {
   "cell_type": "code",
   "execution_count": null,
   "id": "193f2d1d",
   "metadata": {},
   "outputs": [],
   "source": []
  },
  {
   "cell_type": "markdown",
   "id": "2d17be2c",
   "metadata": {},
   "source": [
    "\n",
    "10) Dado un diccionario que mapea nombres de países con sus capitales, construí un nuevo diccionario donde:\n",
    "•Las capitales sean las claves.\n",
    "•Los países sean los valores. Ejemplo (ver en PDF)\n"
   ]
  },
  {
   "cell_type": "code",
   "execution_count": null,
   "id": "2ee6a373",
   "metadata": {},
   "outputs": [],
   "source": []
  }
 ],
 "metadata": {
  "kernelspec": {
   "display_name": "Python (myenv)",
   "language": "python",
   "name": "myenv"
  },
  "language_info": {
   "codemirror_mode": {
    "name": "ipython",
    "version": 3
   },
   "file_extension": ".py",
   "mimetype": "text/x-python",
   "name": "python",
   "nbconvert_exporter": "python",
   "pygments_lexer": "ipython3",
   "version": "3.11.2"
  }
 },
 "nbformat": 4,
 "nbformat_minor": 5
}
