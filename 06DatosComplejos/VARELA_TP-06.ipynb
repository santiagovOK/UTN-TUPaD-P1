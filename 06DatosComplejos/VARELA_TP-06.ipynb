{
 "cells": [
  {
   "cell_type": "markdown",
   "id": "59cd5a13",
   "metadata": {},
   "source": [
    "**Trabajo práctico Nº6 - Estructuras de datos complejas**\n",
    "Varela Santiago Octavio (Comisión 22)\n",
    "\n",
    "- **Resolución del trabajo práctico Nº6 al 2025-06-20**\n",
    "\n",
    "- **Estará también en [VARELA_TP-06.py](https://github.com/santiagovOK/UTN-TUPaD-P1/tree/main/06DatosComplejos/VARELA_TP-06.py)**"
   ]
  },
  {
   "cell_type": "markdown",
   "id": "04b8fe46",
   "metadata": {},
   "source": [
    "1) Dado el diccionario `precios_frutas` \n",
    "\n",
    "`precios_frutas = {'Banana': 1200, 'Ananá': 2500, 'Melón': 3000, 'Uva':\n",
    "1450}`\n",
    "\n",
    "Añadir las siguientes frutas con sus respectivos precios:\n",
    "\n",
    "●​ Naranja = 1200\n",
    "●​ Manzana = 1500\n",
    "●​ Pera = 2300"
   ]
  },
  {
   "cell_type": "code",
   "execution_count": null,
   "id": "50664b24",
   "metadata": {},
   "outputs": [],
   "source": [
    "# Establecemos el diccionario con los precios de las frutas\n",
    "precios_frutas = {'Banana': 1200, 'Ananá': 2500, 'Melón': 3000, 'Uva': 1450}\n",
    "\n",
    "# Añadimos nuevas llaves y valores al diccionario según el enunciado\n",
    "precios_frutas.update({'Naranja': 1200, 'Manzana': 1500, 'Pera': 2300})\n",
    "\n",
    "# Imprimimos el diccionario actualizado\n",
    "print(precios_frutas)"
   ]
  },
  {
   "cell_type": "markdown",
   "id": "cd3afdd4",
   "metadata": {},
   "source": [
    "2) Siguiendo con el diccionario `precios_frutas` que resulta luego de ejecutar el código  desarrollado en el punto anterior, actualizar los precios de las siguientes frutas:\n",
    "\n",
    "●​ Banana = 1330\n",
    "●​ Manzana = 1700\n",
    "●​ Melón = 2800"
   ]
  },
  {
   "cell_type": "code",
   "execution_count": null,
   "id": "cbd5d04f",
   "metadata": {},
   "outputs": [],
   "source": [
    "# Establecemos el diccionario con los precios de las frutas\n",
    "precios_frutas = {'Banana': 1200, 'Ananá': 2500, 'Melón': 3000, 'Uva': 1450}\n",
    "\n",
    "# Añadimos nuevas llaves y valores al diccionario según el enunciado\n",
    "precios_frutas.update({'Naranja': 1200, 'Manzana': 1500, 'Pera': 2300})\n",
    "\n",
    "# Imprimimos el diccionario actualizado\n",
    "print(f\"Precio luego de añadir las nuevas frutas: {precios_frutas}\")\n",
    "\n",
    "# Actualizamos los precios de las frutas según el enunciado 2)\n",
    "\n",
    "precios_frutas.update({'Banana': 1330, 'Manzana':1700, 'Melón': 2800})\n",
    "\n",
    "# Imprimimos el diccionario actualizado\n",
    "print(f\"\\nPrecio luego de actualizar los precios de las frutas según enunciado 2): {precios_frutas}\")"
   ]
  },
  {
   "cell_type": "markdown",
   "id": "1c4655b9",
   "metadata": {},
   "source": [
    "3) Siguiendo con el diccionario `precios_frutas` que resulta luego de ejecutar el código desarrollado en el punto anterior, crear una lista que contenga únicamente las frutas sin los precios."
   ]
  },
  {
   "cell_type": "code",
   "execution_count": null,
   "id": "1fd8523a",
   "metadata": {},
   "outputs": [],
   "source": [
    "# Establecemos el diccionario con los precios de las frutas\n",
    "precios_frutas = {'Banana': 1200, 'Ananá': 2500, 'Melón': 3000, 'Uva': 1450}\n",
    "\n",
    "# Añadimos nuevas llaves y valores al diccionario según el enunciado\n",
    "precios_frutas.update({'Naranja': 1200, 'Manzana': 1500, 'Pera': 2300})\n",
    "\n",
    "# Imprimimos el diccionario actualizado\n",
    "print(f\"Precio luego de añadir las nuevas frutas: {precios_frutas}\")\n",
    "\n",
    "# Actualizamos los precios de las frutas según el enunciado 2)\n",
    "\n",
    "precios_frutas.update({'Banana': 1330, 'Manzana':1700, 'Melón': 2800})\n",
    "\n",
    "print(f\"\\nPrecio luego de actualizar los precios de las frutas según enunciado 2): {precios_frutas}\")\n",
    "\n",
    "# Creamos una lista con los nombres de las frutas\n",
    "\n",
    "frutas = list(precios_frutas.keys())\n",
    "\n",
    "# Imprimimos la lista de frutas, que solo contiene los nombres de las frutas\n",
    "\n",
    "print(f\"\\nLista de frutas: {frutas} que es de tipo '{type(frutas)}'\")"
   ]
  },
  {
   "cell_type": "markdown",
   "id": "2ad309b8",
   "metadata": {},
   "source": [
    "4) Escribí un programa que permita almacenar y consultar números telefónicos.\n",
    "•Permití al usuario cargar 5 contactos con su nombre como clave y número como valor.\n",
    "•Luego, pedí un nombre y mostrale el número asociado, si existe. Ejemplo (ver en PDF)"
   ]
  },
  {
   "cell_type": "code",
   "execution_count": null,
   "id": "f1359fb9",
   "metadata": {},
   "outputs": [],
   "source": [
    "# Creamos un diccionario vacío para almacenar los contactos\n",
    "contactos = {}\n",
    "\n",
    "\n",
    "print(\"Cargá 5 contactos con su número telefónico:\")\n",
    "\n",
    "# Cargamos los 5 contactos usando un bucle `for`\n",
    "\n",
    "for i in range(5):\n",
    "    nombre = input(f\"Ingresá el nombre del contacto {i+1}: \")\n",
    "    telefono = input(f\"Ingresá el número de {nombre}: \")\n",
    "    contactos[nombre] = telefono\n",
    "\n",
    "# Mostramos todos los contactos ingresados yendo item por item del diccionario\n",
    "\n",
    "print(\"\\nLista de contactos cargados:\")\n",
    "\n",
    "for contacto, telefono in contactos.items():\n",
    "    print(f\"Contacto: {contacto}, Teléfono: {telefono}\")\n",
    "\n",
    "# Agregamos la posibilidad de consultar un número por nombre\n",
    "\n",
    "consulta = input(\"\\nIngresá el nombre que querés buscar: \")\n",
    "\n",
    "# Verificamos si el contacto existe en el diccionario y mostramos el número correspondiente\n",
    "if consulta in contactos:\n",
    "    print(f\"El número de {consulta} es: {contactos[consulta]}\")\n",
    "else:\n",
    "    print(f\"No se encontró el contacto '{consulta}'.\")\n",
    "\n"
   ]
  },
  {
   "cell_type": "markdown",
   "id": "eec87b59",
   "metadata": {},
   "source": [
    "5) Solicita al usuario una frase e imprime:\n",
    "•Las palabras únicas (usando un set).\n",
    "•Un diccionario con la cantidad de veces que aparece cada palabra. Ejemplo (ver en PDF)"
   ]
  },
  {
   "cell_type": "code",
   "execution_count": null,
   "id": "f6f1188f",
   "metadata": {},
   "outputs": [],
   "source": []
  },
  {
   "cell_type": "markdown",
   "id": "ad7ddeb1",
   "metadata": {},
   "source": [
    "6) Permití ingresar los nombres de 3 alumnos, y para cada uno una tupla de 3 notas.\n",
    "Luego, mostrá el promedio de cada alumno. Ejemplo (ver en PDF)"
   ]
  },
  {
   "cell_type": "code",
   "execution_count": null,
   "id": "77f908d4",
   "metadata": {},
   "outputs": [],
   "source": []
  },
  {
   "cell_type": "markdown",
   "id": "b4465dd4",
   "metadata": {},
   "source": [
    "7) Dado dos sets de números, representando dos listas de estudiantes que aprobaron Parcial 1 y Parcial 2:\n",
    "\n",
    "•Mostrá los que aprobaron ambos parciales.\n",
    "•Mostrá los que aprobaron solo uno de los dos.\n",
    "•Mostrá la lista total de estudiantes que aprobaron al menos un parcial (sin repetir)."
   ]
  },
  {
   "cell_type": "code",
   "execution_count": null,
   "id": "2a82b2a7",
   "metadata": {},
   "outputs": [],
   "source": []
  },
  {
   "cell_type": "markdown",
   "id": "85267adf",
   "metadata": {},
   "source": [
    "8) Armá un diccionario donde las claves sean nombres de productos y los valores su stock.\n",
    "Permití al usuario:\n",
    "•Consultar el stock de un producto ingresado.\n",
    "•Agregar unidades al stock si el producto ya existe.\n",
    "•Agregar un nuevo producto si no existe."
   ]
  },
  {
   "cell_type": "code",
   "execution_count": null,
   "id": "5e56a008",
   "metadata": {},
   "outputs": [],
   "source": []
  },
  {
   "cell_type": "markdown",
   "id": "c726b8f9",
   "metadata": {},
   "source": [
    "\n",
    "9) Creá una agenda donde las claves sean tuplas de (día, hora) y los valores sean eventos.\n",
    "\n",
    "Ejemplo (ver en PDF)\n",
    "\n",
    "Permití consultar qué actividad hay en cierto día y hora.\n"
   ]
  },
  {
   "cell_type": "code",
   "execution_count": null,
   "id": "193f2d1d",
   "metadata": {},
   "outputs": [],
   "source": []
  },
  {
   "cell_type": "markdown",
   "id": "2d17be2c",
   "metadata": {},
   "source": [
    "\n",
    "10) Dado un diccionario que mapea nombres de países con sus capitales, construí un nuevo diccionario donde:\n",
    "•Las capitales sean las claves.\n",
    "•Los países sean los valores. Ejemplo (ver en PDF)\n"
   ]
  },
  {
   "cell_type": "code",
   "execution_count": null,
   "id": "2ee6a373",
   "metadata": {},
   "outputs": [],
   "source": []
  }
 ],
 "metadata": {
  "kernelspec": {
   "display_name": "Python (myenv)",
   "language": "python",
   "name": "myenv"
  },
  "language_info": {
   "codemirror_mode": {
    "name": "ipython",
    "version": 3
   },
   "file_extension": ".py",
   "mimetype": "text/x-python",
   "name": "python",
   "nbconvert_exporter": "python",
   "pygments_lexer": "ipython3",
   "version": "3.11.2"
  }
 },
 "nbformat": 4,
 "nbformat_minor": 5
}
