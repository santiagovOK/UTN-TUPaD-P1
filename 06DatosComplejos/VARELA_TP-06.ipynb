{
 "cells": [
  {
   "cell_type": "markdown",
   "id": "59cd5a13",
   "metadata": {},
   "source": [
    "**Trabajo práctico Nº6 - Estructuras de datos complejas**\n",
    "Varela Santiago Octavio (Comisión 22)\n",
    "\n",
    "- **Resolución del trabajo práctico Nº6 al 2025-04-18**\n",
    "\n",
    "- **Estará también en [VARELA_TP-06.py](https://github.com/santiagovOK/UTN-TUPaD-P1/tree/main/06DatosComplejos/VARELA_TP-06.py)**"
   ]
  },
  {
   "cell_type": "markdown",
   "id": "04b8fe46",
   "metadata": {},
   "source": [
    "1) Dado el diccionario `precios_frutas` \n",
    "\n",
    "`precios_frutas = {'Banana': 1200, 'Ananá': 2500, 'Melón': 3000, 'Uva':\n",
    "1450}`\n",
    "\n",
    "Añadir las siguientes frutas con sus respectivos precios:\n",
    "\n",
    "●​ Naranja = 1200\n",
    "●​ Manzana = 1500\n",
    "●​ Pera = 2300"
   ]
  },
  {
   "cell_type": "code",
   "execution_count": null,
   "id": "50664b24",
   "metadata": {
    "vscode": {
     "languageId": "plaintext"
    }
   },
   "outputs": [],
   "source": []
  },
  {
   "cell_type": "markdown",
   "id": "cd3afdd4",
   "metadata": {},
   "source": [
    "2) Siguiendo con el diccionario `precios_frutas` que resulta luego de ejecutar el código\n",
    "desarrollado en el punto anterior, actualizar los precios de las siguientes frutas:\n",
    "\n",
    "●​ Banana = 1330\n",
    "●​ Manzana = 1700\n",
    "●​ Melón = 2800"
   ]
  },
  {
   "cell_type": "markdown",
   "id": "1c4655b9",
   "metadata": {},
   "source": [
    "3) Siguiendo con el diccionario `precios_frutas` que resulta luego de ejecutar el código\n",
    "desarrollado en el punto anterior, crear una lista que contenga únicamente las frutas sin los\n",
    "precios."
   ]
  },
  {
   "cell_type": "markdown",
   "id": "2ad309b8",
   "metadata": {},
   "source": [
    "4) Crear una clase llamada `Persona` que contenga un método `__init__` con los atributos\n",
    "nombre, pais y edad y el método saludar. El método saludar debe imprimir por pantalla un\n",
    "mensaje de salud que siga la estructura \"¡Hola! Soy [nombre], vivo en [pais] y tengo [edad]\n",
    "años.\""
   ]
  },
  {
   "cell_type": "markdown",
   "id": "eec87b59",
   "metadata": {},
   "source": [
    "5) Crear una clase llamada `Circulo` que contenga el atributo radio y los métodos `calcular_area` y `calcular_perimetro`. Dichos métodos deben calcular el parámetro correspondiente.\n",
    "\n",
    "Ayuda: el módulo math puede ser de utilidad para usar la constante 𝜋."
   ]
  },
  {
   "cell_type": "markdown",
   "id": "ad7ddeb1",
   "metadata": {},
   "source": [
    "6) Dado un string con paréntesis \"()\", \"{}\", \"[]\", verifica si están correctamente\n",
    "balanceados usando una pila.\n",
    "\n",
    "[Ejemplo de entrada y salida:](/06DatosComplejos/assets/consigna6-img.png)"
   ]
  },
  {
   "cell_type": "markdown",
   "id": "b4465dd4",
   "metadata": {},
   "source": [
    "7) Usa una cola para simular un sistema de turnos en un banco. La cola debe permitir:\n",
    "\n",
    "●​ Agregar clientes (encolar).\n",
    "●​ Atender clientes (desencolar).\n",
    "●​ Mostrar el siguiente cliente en la fila."
   ]
  },
  {
   "cell_type": "markdown",
   "id": "85267adf",
   "metadata": {},
   "source": [
    "8) Crea una lista enlazada que permita insertar nodos al inicio y recorrer la lista para mostrar los valores almacenados."
   ]
  },
  {
   "cell_type": "markdown",
   "id": "c726b8f9",
   "metadata": {},
   "source": [
    "9) Dada una lista enlazada, implementa una función para invertirla.\n",
    "\n",
    "[Ejemplo de entrada y salida:](/06DatosComplejos/assets/consigna9-img.png)"
   ]
  }
 ],
 "metadata": {
  "language_info": {
   "name": "python"
  }
 },
 "nbformat": 4,
 "nbformat_minor": 5
}
