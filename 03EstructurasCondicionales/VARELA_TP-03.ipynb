{
 "cells": [
  {
   "cell_type": "markdown",
   "metadata": {},
   "source": [
    "*Trabajo práctico Nº3 - Estructuras condicionales -  Varela Santiago Octavio(Comisión 22)*\n",
    "\n",
    "- **Resolución del trabajo práctico Nº3 al 2025-04-02**\n",
    "\n",
    "- **Estará también en [VARELA_TP-03.py](https://github.com/santiagovOK/UTN-TUPaD-P1/blob/main/03EstructurasCondicionales/VARELA_TP-03.py)**"
   ]
  },
  {
   "cell_type": "markdown",
   "metadata": {},
   "source": [
    "1) Escribir un programa que solicite la edad del usuario. Si el usuario es mayor de 18 años,\n",
    "deberá mostrar un mensaje en pantalla que diga “Es mayor de edad”."
   ]
  },
  {
   "cell_type": "code",
   "execution_count": null,
   "metadata": {},
   "outputs": [],
   "source": [
    "# Le solicitamos su edad al usuario y creamos una variable para albergar la edad límite de mayoría de edad (18, edad_adulto)\n",
    "edad_usuario = int(input(\"Ingresá tu edad\"))\n",
    "edad_adulto = 18\n",
    "\n",
    "# Iniciamos la condición, teniendo que ser la edad del usuario mayor (la consigna no dice mayor o igual) a 18 para imprimir el mensaje\n",
    "if edad_usuario > edad_adulto:\n",
    "    print(\"Es mayor de edad\")\n",
    "else:\n",
    "    print(\"Es menor de edad.\") # Mensaje que se imprimi si la edad del usuario no es más que 18."
   ]
  },
  {
   "cell_type": "markdown",
   "metadata": {},
   "source": [
    "2) Escribir un programa que solicite su nota al usuario. Si la nota es mayor o igual a 6, deberá\n",
    "mostrar por pantalla un mensaje que diga “Aprobado”; en caso contrario deberá mostrar el\n",
    "mensaje “Desaprobado”."
   ]
  },
  {
   "cell_type": "code",
   "execution_count": null,
   "metadata": {},
   "outputs": [],
   "source": [
    "# Le solicitamos su nota al usuario y creamos una variable que almacene la nota límite de aprobación (nota_aprobar)\n",
    "nota_usuario = float(input(\"Ingresá tu nota\"))\n",
    "nota_aprobar = 6\n",
    "\n",
    "# Iniciamos la estructura condicional. \n",
    "# Si la nota del usuario (nota_usuario) es mayor o igual (>=) que la nota de aprobación (nota_aprobar), se imprimirá \"Aprobado\"\n",
    "if nota_usuario >= nota_aprobar:\n",
    "    print(\"Aprobado\")\n",
    "else:\n",
    "    print(\"Desaprobado\") # De lo contrario, se imprimirá \"Desaprobado\""
   ]
  },
  {
   "cell_type": "markdown",
   "metadata": {},
   "source": [
    "3) Escribir un programa que permita ingresar solo números pares. Si el usuario ingresa un\n",
    "número par, imprimir por en pantalla el mensaje \"Ha ingresado un número par\"; en caso\n",
    "contrario, imprimir por pantalla \"Por favor, ingrese un número par\". Nota: investigar el uso del\n",
    "operador de módulo (%) en Python para evaluar si un número es par o impar."
   ]
  },
  {
   "cell_type": "code",
   "execution_count": null,
   "metadata": {},
   "outputs": [],
   "source": [
    "# Le solicitamos al usuario que ingrese un número\n",
    "num_ingresado = int(input(\"Ingresá un número entero:\"))\n",
    "\n",
    "# Iniciamos la estructura condicional. \n",
    "# Sí el número del usuario es par (módulo, dividido 2 da resto 0) se imprime el mensaje \"Ha ingresado un número par.\"\n",
    "if num_ingresado % 2 == 0:\n",
    "    print(\"Ha ingresado un número par.\")\n",
    "else:\n",
    "    print(\"Por favor, ingrese un número par.\") # En otro caso, se imprime \"Por favor, ingrese un número par\""
   ]
  },
  {
   "cell_type": "markdown",
   "metadata": {},
   "source": [
    "4) Escribir un programa que solicite al usuario su edad e imprima por pantalla a cuál de las\n",
    "siguientes categorías pertenece:\n",
    "●​ Niño/a: menor de 12 años.\n",
    "●​ Adolescente: mayor o igual que 12 años y menor que 18 años.\n",
    "●​ Adulto/a joven: mayor o igual que 18 años y menor que 30 años.\n",
    "●​ Adulto/a: mayor o igual que 30 años."
   ]
  },
  {
   "cell_type": "code",
   "execution_count": null,
   "metadata": {},
   "outputs": [],
   "source": [
    "# Le solicitamos la edad al usuario\n",
    "edad_usuario = int(input(\"Ingrese su edad:\"))\n",
    "\n",
    "# Definimos los rangos de edades para cada categoría\n",
    "rango_nino = range(0, 12)\n",
    "rango_adolescente = range(12, 18)\n",
    "rango_adulto_joven = range(18, 30)\n",
    "\n",
    "# Verificamos en qué rango se encuentra la edad del usuario, según los establecidos en el paso anterior\n",
    "\n",
    "if edad_usuario in rango_adolescente:\n",
    "    print(\"Usted es un adolescente.\") # Se imprime \"Usted es un adolescente.\" si edad_usuario está dentro de rango_adolescente\n",
    "elif edad_usuario in rango_nino:\n",
    "    print(\"Usted es un niño/a.\") # Se irmprime \"Usted es un niño/a.\" si edad_usuario está dentro de rango_nino\n",
    "elif edad_usuario in rango_adulto_joven:\n",
    "    print(\"Usted es un adulto joven.\") # Se imprime \"Usted es un adulto joven.\" si edad_usuario esta dentro de rango_adulto_joven\n",
    "else:\n",
    "    print(\"Usted es un adulto.\") # Se imprime \"Usted es un adulto.\" para el resto de los casos"
   ]
  },
  {
   "cell_type": "markdown",
   "metadata": {},
   "source": [
    "5) Escribir un programa que permita introducir contraseñas de entre 8 y 14 caracteres\n",
    "(incluyendo 8 y 14). Si el usuario ingresa una contraseña de longitud adecuada, imprimir por en\n",
    "pantalla el mensaje \"Ha ingresado una contraseña correcta\"; en caso contrario, imprimir por\n",
    "pantalla \"Por favor, ingrese una contraseña de entre 8 y 14 caracteres\". Nota: investigue el uso\n",
    "de la función len() en Python para evaluar la cantidad de elementos que tiene un iterable tal\n",
    "como una lista o un string."
   ]
  },
  {
   "cell_type": "code",
   "execution_count": null,
   "metadata": {},
   "outputs": [],
   "source": [
    "# Le solicitamos al usuario una contraseña en tipo de dato string (str)\n",
    "contraseña_ingresada = str(input(\"Ingrese su contraseña:\"))\n",
    "\n",
    "# Usamos len() para poder contar la cantidad de caractéres de la contraseña_ingresada\n",
    "longitud_contraseña = len(contraseña_ingresada)\n",
    "\n",
    "# Iniciamos la estructura condicional. \n",
    "\n",
    "# Si la longitud_contraseña está dentro del rango 8 y 14 inclusive, se imprime \"Ha ingresado una contraseña correcta.\"\n",
    "# En el segundo se usa 15, ya que range no incluye el segundo parámetro inclusive, si el primero\n",
    "if longitud_contraseña in range (8, 15):\n",
    "    print(\"Ha ingresado una contraseña correcta.\")\n",
    "else:\n",
    "    print(\"Por favor, ingrese una contraseña de entre 8 y 14 caracteres.\") # en otro caso, se imprime \"Por favor, ingrese una contraseña de entre 8 y 14 caracteres.\""
   ]
  },
  {
   "cell_type": "markdown",
   "metadata": {},
   "source": [
    "6) El paquete statistics de python contiene funciones que permiten tomar una lista de números\n",
    "y calcular la moda, la mediana y la media de dichos números. Un ejemplo de su uso es el\n",
    "siguiente:\n",
    "\n",
    "```py\n",
    "from statistics import mode, median, mean\n",
    "mi_lista = [1,2,5,5,3]\n",
    "mean(mi_lista)\n",
    "```\n",
    "\n",
    "En la documentación oficial se puede encontrar más información sobre este paquete:\n",
    "https://docs.python.org/es/3.8/library/statistics.html.\n",
    "\n",
    "La moda (mode), la mediana (median) y la media (mean) son parámetros estadísticos que se\n",
    "pueden utilizar para predecir la forma de una distribución normal a partir del siguiente criterio:\n",
    "●​ Sesgo positivo o a la derecha: cuando la media es mayor que la mediana y, a su vez, la mediana es mayor que la moda.\n",
    "●​ Sesgo negativo o a la izquierda: cuando la media es menor que la mediana y, a su vez,\n",
    "la mediana es menor que la moda.\n",
    "●​ Sin sesgo: cuando la media, la mediana y la moda son iguales.\n",
    "\n",
    "Teniendo en cuenta lo antes mencionado, escribir un programa que tome la lista\n",
    "numeros_aleatorios, calcule su moda, su mediana y su media y las compare para determinar si hay sesgo positivo, negativo o no hay sesgo. Imprimir el resultado por pantalla.\n",
    "Definir la lista numeros_aleatorios de la siguiente forma:\n",
    "\n",
    "```py\n",
    "import random\n",
    "numeros_aleatorios = [random.randint(1, 100) for i in range(50)]\n",
    "```\n",
    "\n",
    "Nota: el bloque de código anterior crea una lista con 50 números entre 1 y 100 elegidos de\n",
    "forma aleatoria."
   ]
  },
  {
   "cell_type": "code",
   "execution_count": null,
   "metadata": {},
   "outputs": [],
   "source": [
    "# Importamos `statistics` y las funciones respectivas (moda (mode), mediana (median), media (mean))\n",
    "from statistics import mode, median, mean\n",
    "\n",
    "# Importamos `random` para la selección de números aleatorios entre 1 y 100\n",
    "import random\n",
    "\n",
    "# Establecemos `numeros_aleatorios` como variable para incluir en ella 50 valores numéricos del 1 al 100 con `random`\n",
    "numeros_aleatorios = [random.randint(1, 100) for i in range(50)]\n",
    "\n",
    "# Creamos variables para almacenar la media, mediana y moda del rango `numeros_aleatorios` \n",
    "mode_output = mode(numeros_aleatorios)\n",
    "median_output = median(numeros_aleatorios)\n",
    "mean_output = mean(numeros_aleatorios)\n",
    "\n",
    "# Imprimimos la media, moda y mediana para referencia\n",
    "print(f\"La media es {mean_output}, la mediana {median_output} y la moda {mode_output}. Entonces...\")\n",
    "\n",
    "# Iniciamos la estructura condicional\n",
    "\n",
    "# Sí la media es mayor que la mediana y (and) la mediana es mayor que la moda, se imprime \"El sesgo es positivo (o a la derecha).\"\n",
    "if (mean_output > median_output) and (median_output > mode_output):\n",
    "    print(\"El sesgo es positivo (o a la derecha).\")\n",
    "elif (mean_output < median_output) and (median_output < mode_output): # Sí la media es menor que la mediana y (and) la mediana es menor que la moda, se imprime \"El sesgo es negativo (o a la izquierda).\"\n",
    "    print(\"El sesgo es negativo (o a la izquierda).\")\n",
    "elif mean_output == median_output and median_output == mode_output: # Sí la media es igual que la mediana y (and) la mediana es igual que la moda, se imprime \"No hay sesgo.\"\n",
    "    print(\"No hay sesgo.\")\n",
    "else:\n",
    "    print(\"Otro resultado, fuera de las tres opciones.\") # Para el resto de las combinaciones posible, se imprime \"Otro resultado, fuera de las tres opciones.\"\n",
    "\n"
   ]
  },
  {
   "cell_type": "markdown",
   "metadata": {},
   "source": [
    "7) Escribir un programa que solicite una frase o palabra al usuario. Si el string ingresado\n",
    "termina con vocal, añadir un signo de exclamación al final e imprimir el string resultante por\n",
    "pantalla; en caso contrario, dejar el string tal cual lo ingresó el usuario e imprimirlo por\n",
    "pantalla."
   ]
  },
  {
   "cell_type": "code",
   "execution_count": null,
   "metadata": {},
   "outputs": [],
   "source": [
    "# Le solicitamos una palabra o frase al usuario\n",
    "frase_usuario = str(input(\"Escribí una frase o una palabra\"))\n",
    "\n",
    "# Almacenamos en una variable las vocales, tanto en mayúscula cómo en minúscula.\n",
    "vocales = str(\"aeiouAEIOU\")\n",
    "\n",
    "# Iniciamos la estructura condicional\n",
    "# Si la frase o palabra que incresó el usuario termina (por eso la posición [-1] en frase_usuario) en una vocal, se imprime \"!\"\n",
    "if frase_usuario[-1] in vocales:\n",
    "    print(\"!\")\n",
    "else:\n",
    "    print(frase_usuario) # En otro caso, se imprime la frase que ingresó el usuario\n"
   ]
  },
  {
   "cell_type": "markdown",
   "metadata": {},
   "source": [
    "8) Escribir un programa que solicite al usuario que ingrese su nombre y el número 1, 2 o 3\n",
    "dependiendo de la opción que desee:\n",
    "\n",
    "1.​ Si quiere su nombre en mayúsculas. Por ejemplo: PEDRO.\n",
    "2.​ Si quiere su nombre en minúsculas. Por ejemplo: pedro.\n",
    "3.​ Si quiere su nombre con la primera letra mayúscula. Por ejemplo: Pedro.\n",
    "\n",
    "El programa debe transformar el nombre ingresado de acuerdo a la opción seleccionada por el\n",
    "usuario e imprimir el resultado por pantalla. Nota: investigue uso de las funciones upper(),\n",
    "lower() y title() de Python para convertir entre mayúsculas y minúsculas."
   ]
  },
  {
   "cell_type": "code",
   "execution_count": null,
   "metadata": {},
   "outputs": [],
   "source": [
    "# Le solicitamos el nombre al usuario\n",
    "nombre_usuario = str(input(\"Ingresá tu nombre:\"))\n",
    "\n",
    "# Le solicitamos al usuario que ingrese una opción entre 1, 2 y 3\n",
    "opcion_usuario = int(input(\"Ahora ingresá 1, 2 o 3 en función de la opción que desees: \\n 1. Si querés que tu nombre aparezca en mayúsculas. \\n 2. Si querés que tu nombre aparezca en minúsculas. \\n 3. Si querés que tu nombre aparezca con la primera letra en mayúscula.\"))\n",
    "\n",
    "# Iniciamos la estructura condicional\n",
    "# Sí la opción es 1, se imprime el nombre en mayúsculas junto con información adicional\n",
    "if opcion_usuario == 1:\n",
    "    nombre_usuario = nombre_usuario.upper()\n",
    "    print(f\"{nombre_usuario}, este es tu resultado dado que elegiste la opción {opcion_usuario}.\")\n",
    "# Sí la opción es 2, se imprime el nombre en minúsculas junto con información adicional\n",
    "elif opcion_usuario == 2:\n",
    "    nombre_usuario = nombre_usuario.lower()\n",
    "    print(f\"{nombre_usuario}, este es tu resultado dado que elegiste la opción {opcion_usuario}.\")\n",
    "# Sí la opción es 3, se imprime el nombre con la primera letra mayúscula junto con información adicional\n",
    "elif opcion_usuario == 3:\n",
    "    nombre_usuario = nombre_usuario.title()\n",
    "    print(f\"{nombre_usuario}, este es tu resultado dado que elegiste la opción {opcion_usuario}.\")\n",
    "# En otro caso, se imprime \"Ingresá una opción válida\"\n",
    "else:\n",
    "    print(\"Ingresá una opción válida.\")"
   ]
  },
  {
   "cell_type": "markdown",
   "metadata": {},
   "source": [
    "9) Escribir un programa que pida al usuario la magnitud de un terremoto, clasifique la\n",
    "magnitud en una de las siguientes categorías según la escala de Richter e imprima el resultado\n",
    "por pantalla:\n",
    "\n",
    "●​ Menor que 3: \"Muy leve\" (imperceptible).\n",
    "●​ Mayor o igual que 3 y menor que 4: \"Leve\" (ligeramente perceptible).\n",
    "●​ Mayor o igual que 4 y menor que 5: \"Moderado\" (sentido por personas, pero\n",
    "generalmente no causa daños).\n",
    "●​ Mayor o igual que 5 y menor que 6: \"Fuerte\" (puede causar daños en estructuras\n",
    "débiles).\n",
    "●​ Mayor o igual que 6 y menor que 7: \"Muy Fuerte\" (puede causar daños significativos).\n",
    "●​ Mayor o igual que 7: \"Extremo\" (puede causar graves daños a gran escala)."
   ]
  },
  {
   "cell_type": "code",
   "execution_count": null,
   "metadata": {},
   "outputs": [],
   "source": [
    "# Le solicitamos la magnitud del terremoto sufrido al usuario\n",
    "magnitud_usuario = float(input(\"Brindame la magnitud del terremoto que sufrió tu ciudad:\"))\n",
    "\n",
    "# Establecemos en diferentes variables el rango de valores para cada categoria\n",
    "richter_muy_leve = magnitud_usuario < 3\n",
    "richter_leve = magnitud_usuario >= 3 and magnitud_usuario < 4 \n",
    "richter_moderado = magnitud_usuario >= 4 and magnitud_usuario < 5 \n",
    "richter_fuerte = magnitud_usuario >= 5 and magnitud_usuario < 6\n",
    "richter_muy_fuerte = magnitud_usuario >= 6 and magnitud_usuario < 7\n",
    "richter_extremo = magnitud_usuario >= 7\n",
    "\n",
    "# Iniciamos la estructura condicional\n",
    "# Para cada categoría escala, en función de las relaciones lógicas para la escala Richter establecidas anteriormente\n",
    "# se imprimirá un mensaje que refleje cada categoría determinada por la magnitud del terremoto ingresada por el usuario\n",
    "if richter_muy_leve:\n",
    "    print(f\"La escala de Richter según la magnitud {magnitud_usuario}, nos indica que el terremoto es muy leve (imperceptible)\")\n",
    "elif richter_leve:\n",
    "    print(f\"La escala de Richter según la magnitud {magnitud_usuario}, nos indica que el terremoto es leve (ligeramente perceptible)\")\n",
    "elif richter_moderado:\n",
    "    print(f\"La escala de Richter según la magnitud {magnitud_usuario}, nos indica que el terremoto es moderado (sentido por personas, pero generalmente no causa daños)\")\n",
    "elif richter_fuerte:\n",
    "    print(f\"La escala de Richter según la magnitud {magnitud_usuario}, nos indica que el terremoto es fuerte (puede causar daños en estructuras débiles)\")\n",
    "elif richter_muy_fuerte:\n",
    "    print(f\"La escala de Richter según la magnitud {magnitud_usuario}, nos indica que el terremoto es muy fuerte (puede causar daños significativos)\")\n",
    "else:\n",
    "    print(f\"La escala de Richter según la magnitud {magnitud_usuario}, nos indica que el terremoto es extremo (puede causar graves daños a gran escala)\")"
   ]
  },
  {
   "cell_type": "markdown",
   "metadata": {},
   "source": [
    "10) Utilizando la información aportada en la siguiente tabla sobre las estaciones del año:\n",
    "\n",
    "| **Periodo del año**                                           | **Estación en el hemisferio norte** | **Estación en el hemisferio sur** |\n",
    "|---------------------------------------------------------------|------------------------------------|------------------------------------|\n",
    "| Desde el 21 de diciembre hasta el 20 de marzo (incluidos)     | Invierno                           | Verano                             |\n",
    "| Desde el 21 de marzo hasta el 20 de junio (incluidos)         | Primavera                          | Otoño                              |\n",
    "| Desde el 21 de junio hasta el 20 de septiembre (incluidos)    | Verano                             | Invierno                           |\n",
    "| Desde el 21 de septiembre hasta el 20 de diciembre (incluidos)| Otoño                              | Primavera                          |\n",
    "\n",
    "Escribir un programa que pregunte al usuario en cuál hemisferio se encuentra (N/S), qué mes\n",
    "del año es y qué día es. El programa deberá utilizar esa información para imprimir por pantalla\n",
    "si el usuario se encuentra en otoño, invierno, primavera o verano."
   ]
  },
  {
   "cell_type": "code",
   "execution_count": null,
   "metadata": {},
   "outputs": [],
   "source": [
    "# Le solicitamos al usuario el hemisferio, el mes y el día en el cuál se encuentra\n",
    "hemisferio_usuario = str(input(\"Ingresá en que hemisferio te encontras. Escribí 'N' para norte o 'S' para Sur:\"))\n",
    "mes_usuario = int(input(\"Ingresá el número de mes en el que te encontrás (1-12):\"))\n",
    "dia_usuario = int(input(\"Ingresá el número de día en el que te encontrás (1-31):\"))\n",
    "\n",
    "# Iniciamos una primera estructura condicional\n",
    "# Manejo de errores básico en cuanto a día, mes o mal ingreso de la letra de hemisferio \n",
    "if mes_usuario < 1 or mes_usuario > 12:\n",
    "    print(\"Error: Mes incorrecto. Intentá nuevamente.\")\n",
    "elif dia_usuario < 1 or dia_usuario > 31:\n",
    "    print(\"Error: Día inexistente. Intentá nuevamente.\")\n",
    "elif hemisferio_usuario not in [\"N\", \"S\"]:\n",
    "    print(\"Error: No ingresaste correctamente tu hemisferio. Intentá otra vez.\")\n",
    "# En caso de que lo anterior esté bien ingresado\n",
    "# esta parte de la estructura evalua la estación en función del hemisferio, el mes y el día que ingresó el usuario\n",
    "else:\n",
    "    if (mes_usuario == 12 and dia_usuario >= 21) or (1 <= mes_usuario <= 2) or (mes_usuario == 3 and dia_usuario <= 20):\n",
    "        estacion_norte = \"Invierno\"\n",
    "        estacion_sur = \"Verano\"\n",
    "    elif (mes_usuario == 3 and dia_usuario >= 21) or (4 <= mes_usuario <= 5) or (mes_usuario == 6 and dia_usuario <= 20):\n",
    "        estacion_norte = \"Primavera\"\n",
    "        estacion_sur = \"Otoño\"\n",
    "    elif (mes_usuario == 6 and dia_usuario >= 21) or (7 <= mes_usuario <= 8) or (mes_usuario == 9 and dia_usuario <= 20): \n",
    "        estacion_norte = \"Verano\"\n",
    "        estacion_sur = \"Invierno\"\n",
    "    else:\n",
    "        estacion_norte = \"Otoño\"\n",
    "        estacion_sur = \"Primavera\"\n",
    "\n",
    "# Iniciamos una última estructura condicional\n",
    "# En base al resultado de la estructura condicional previa, en donde se establecen valores para `estacion_norte` y `estacion_sur`\n",
    "# Aquí indicamos que en funcion de \"N\" o \"S\" se corresponde una de esas dos estaciones.\n",
    "if hemisferio_usuario == \"N\":\n",
    "    print(f\"La estación en la que te encontrás es {estacion_norte}\")\n",
    "elif hemisferio_usuario == \"S\":\n",
    "    print(f\"La estación en la que te encontrás es {estacion_sur}\")\n",
    "else:\n",
    "    print(\"\") # Para que no se imprima nada en caso de error de hemisferio en la primera estructura, dado que se está ejecutando igual"
   ]
  }
 ],
 "metadata": {
  "kernelspec": {
   "display_name": "Python (myenv)",
   "language": "python",
   "name": "myenv"
  },
  "language_info": {
   "codemirror_mode": {
    "name": "ipython",
    "version": 3
   },
   "file_extension": ".py",
   "mimetype": "text/x-python",
   "name": "python",
   "nbconvert_exporter": "python",
   "pygments_lexer": "ipython3",
   "version": "3.11.2"
  }
 },
 "nbformat": 4,
 "nbformat_minor": 2
}
