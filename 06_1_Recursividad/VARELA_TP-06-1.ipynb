{
 "cells": [
  {
   "cell_type": "markdown",
   "id": "1708955c",
   "metadata": {},
   "source": [
    "**Trabajo práctico Nº7 - Recursividad -  Varela Santiago Octavio (Comisión 22)**\n",
    "\n",
    "Resolución del trabajo práctico Nº7 al 2025-05-22\n",
    "\n",
    "Respuestas también en https://github.com/santiagovOK/UTN-TUPaD-P1/tree/main/06_1_Recursividad/VARELA_TP-06-1.py"
   ]
  },
  {
   "cell_type": "markdown",
   "id": "457e4d62",
   "metadata": {},
   "source": [
    "1. Crea una función recursiva que calcule el factorial de un número. Luego, utiliza esa\n",
    "función para calcular y mostrar en pantalla el factorial de todos los números enteros\n",
    "entre 1 y el número que indique el usuario."
   ]
  },
  {
   "cell_type": "code",
   "execution_count": null,
   "id": "2cd5eb7a",
   "metadata": {},
   "outputs": [],
   "source": [
    "# Utilizamos la función recursiva para calcular el factorial de un número. Similar a uno de los ejemplos vistos en las actividades de esta unidad\n",
    "\n",
    "def factorial_recur(x):\n",
    "    if x == 0:\n",
    "        return 1\n",
    "    else:\n",
    "        return x * factorial_recur(x - 1)\n",
    "\n",
    "# Creamos una variable que almacenará el número ingresado por el usuario\n",
    "num_usuario = int(input(\"Ingrese un número: \"))\n",
    "\n",
    "# Creamos una estructura condicional para verificar si el número ingresado es negativo, cero o positivo\n",
    "if num_usuario < 0:\n",
    "    print(\"El factorial no está definido para números negativos.\")\n",
    "elif num_usuario == 0:\n",
    "    print(\"El factorial de 0 es 1.\")   \n",
    "# Si el número es positivo, calculamos el factorial de todos los números enteros entre 1 y el número ingresado\n",
    "else:\n",
    "    print(f\"Ingresaste {num_usuario}\")\n",
    "    print(f\"Calculemos los factoriales de los números enteros entre 1 y {num_usuario}...\")\n",
    "    # Utilizamos un bucle for para iterar sobre los números enteros entre 1 y el número ingresado\n",
    "    for i in range(1, num_usuario + 1):\n",
    "        print(f\"El factorial de {i} es {factorial_recur(i)}\")\n",
    "\n"
   ]
  },
  {
   "cell_type": "markdown",
   "id": "916a094d",
   "metadata": {},
   "source": [
    "2) Crea una función recursiva que calcule el valor de la serie de Fibonacci en la posición\n",
    "indicada. Posteriormente, muestra la serie completa hasta la posición que el usuario\n",
    "especifique."
   ]
  },
  {
   "cell_type": "code",
   "execution_count": null,
   "id": "6aea085a",
   "metadata": {},
   "outputs": [],
   "source": [
    "# Definimos la función recursiva para calcular el valor de la serie de Fibonacci en una posición específica, similar a uno de los ejemplos vistos en las actividades\n",
    "\n",
    "def fibonacci_recursivo(posicion):\n",
    "    if posicion == 0:\n",
    "        return 0\n",
    "    elif posicion == 1:\n",
    "        return 1\n",
    "    else:\n",
    "        return fibonacci_recursivo(posicion - 1) + fibonacci_recursivo(posicion - 2)\n",
    "\n",
    "# Le solicitamos al usuario que ingrese la posición de la serie de Fibonacci que desea calcular\n",
    "pos_usuario = int(input(\"Ingrese la posición de la serie de Fibonacci que desea calcular: \"))\n",
    "\n",
    "# Creamos una condición para verificar que la posición ingresada sea un número entero no negativo, en donde también irá el bucle for para mostrar la serie completa hasta la posición elegida por el usuario\n",
    "if pos_usuario < 0:\n",
    "    print(\"La posición debe ser un número entero no negativo.\")\n",
    "# Caso positivo\n",
    "else:\n",
    "    print(f\"La posición elegida por el usuario es: {pos_usuario}\")\n",
    "    print(\"Serie de Fibonacci completa hasta la posición elegida\", pos_usuario, \":\")\n",
    "    # Bucle for para mostrar la serie completa hasta la posición elegida por el usuario, utilizando la función recursiva definida anteriormente.\n",
    "    for i in range(pos_usuario + 1):\n",
    "        print(fibonacci_recursivo(i))"
   ]
  },
  {
   "cell_type": "markdown",
   "id": "7e6cf4be",
   "metadata": {},
   "source": [
    "3) Crea una función recursiva que calcule la potencia de un número base elevado a un\n",
    "exponente, utilizando la fórmula n^m = n ∗ n^(m−1). Prueba esta función en un\n",
    "algoritmo general."
   ]
  },
  {
   "cell_type": "code",
   "execution_count": null,
   "id": "86f628a3",
   "metadata": {},
   "outputs": [],
   "source": [
    "# Creamos la función recursiva para calcular la potencia de un número base elevado a un exponente\n",
    "def potencia_recursiva(base, exponente):\n",
    "    if exponente == 0: # Caso base\n",
    "        return 1\n",
    "    elif exponente < 0: # Caso para exponentes negativos\n",
    "        return 1 / potencia_recursiva(base, -exponente)\n",
    "    else:\n",
    "        return base * potencia_recursiva(base, exponente - 1) # Llamada recursiva\n",
    "    \n",
    "# Programa principal - Probamos la función recursiva `potencia_recursiva`\n",
    "\n",
    "# Le solicitamos al usuario que ingresa una base y su exponente\n",
    "base = int(input(\"Ingrese la base: \"))\n",
    "exponente = int(input(\"Ingrese el exponente: \"))\n",
    "\n",
    "# Mostramos el resultado de la potencia, ingresando como argumentos la base y el exponente a la `potencia_recursiva`\n",
    "\n",
    "print(f\"{base} elevado a la {exponente} es igual a {potencia_recursiva(base, exponente)}\")\n"
   ]
  },
  {
   "cell_type": "markdown",
   "id": "a6b63252",
   "metadata": {},
   "source": [
    "4) Crear una función recursiva en Python que reciba un número entero positivo en base\n",
    "decimal y devuelva su representación en binario como una cadena de texto."
   ]
  },
  {
   "cell_type": "code",
   "execution_count": null,
   "id": "bf91a54e",
   "metadata": {},
   "outputs": [],
   "source": [
    "\n",
    "def decimal_a_binario(numero):\n",
    "\n",
    "    # Almacenamos el residuo de la división del número por 2 en `residuo`\n",
    "    residuo = numero % 2\n",
    "\n",
    "    # Establecemos el caso base: si el número es 0 o 1, devolvemos su representación en binario como cadena de texto\n",
    "    if numero == 0:\n",
    "        return \"0\"\n",
    "    elif numero == 1:\n",
    "        return \"1\"\n",
    "    # En el último caso, llamamos a la función recursivamente con el cociente de la división del número por 2, y concatenamos el residuo como cadena de texto\n",
    "    else:\n",
    "        # Almacenamos el resultado de la llamada recursiva en `resultado` para poder imprimir el paso a paso de la recursividad.\n",
    "        resultado = decimal_a_binario(numero // 2) + str(residuo)\n",
    "        print(f\"decimal_a_binario({numero}) = {resultado}\")        \n",
    "        return resultado\n",
    "\n",
    "print((decimal_a_binario(10)))  # Salida esperada: 1010 ; si se usa `type` es posible ver que el resultado final es una cadena (str)\n"
   ]
  },
  {
   "cell_type": "markdown",
   "id": "5c0c1e24",
   "metadata": {},
   "source": [
    "5) Implementá una función recursiva llamada es_palindromo(palabra) que reciba una cadena de texto sin espacios ni tildes, y devuelva True si es un palíndromo o False si no lo es.\n",
    "\n",
    "Requisitos:\n",
    "La solución debe ser recursiva.\n",
    "No se debe usar [::-1] ni la función reversed()."
   ]
  },
  {
   "cell_type": "code",
   "execution_count": null,
   "id": "6a7f9eda",
   "metadata": {},
   "outputs": [],
   "source": [
    "def es_palindromo(palabra):\n",
    "    # Caso base: una palabra de longitud 0 o 1 es un palíndromo por definición\n",
    "    if len(palabra) <= 1:\n",
    "        print(\"\\nCaso base: la palabra es un palíndromo - Entonces...\")\n",
    "        return True\n",
    "    # Comparamos los extremos. Si son diferentes, no es un palíndromo por definición\n",
    "    elif palabra[0] != palabra[-1]:\n",
    "        print(\"\\nLos extremos son diferentes - Entonces...\")\n",
    "        return False\n",
    "    # Establecemos el caso recursivo: si los extremos son iguales, llamamos a la función con la palabra sin los extremos hasta el caso base (longitud 0 o 1)\n",
    "    else:\n",
    "        print(f\"{palabra}\") # Imprimimos el paso a paso de la recursividad\n",
    "        resultado = es_palindromo(palabra[1:-1])\n",
    "        return resultado # Devolvemos el resultado final de la llamada recursiva\n",
    "\n",
    "print(es_palindromo(\"radar\"))  # Salida esperada: True\n",
    "print(\"\\n\")\n",
    "print(es_palindromo(\"reconocer\")) # Salida esperada: True\n",
    "print(\"\\n\")\n",
    "print(es_palindromo(\"hola\"))  # Salida esperada: False\n"
   ]
  },
  {
   "cell_type": "markdown",
   "id": "30cf8fd2",
   "metadata": {},
   "source": [
    "6) Escribí una función recursiva en Python llamada suma_digitos(n) que reciba un\n",
    "número entero positivo y devuelva la suma de todos sus dígitos.\n",
    "\n",
    "Restricciones:\n",
    "\n",
    "No se puede convertir el número a string.\n",
    "Usá operaciones matemáticas (%, //) y recursión.\n",
    "\n",
    "Ejemplos:\n",
    "suma_digitos(1234) → 10 (1 + 2 + 3 + 4)\n",
    "suma_digitos(9) → 9\n",
    "suma_digitos(305) → 8 (3 + 0 + 5)"
   ]
  },
  {
   "cell_type": "code",
   "execution_count": null,
   "id": "673cdd8e",
   "metadata": {},
   "outputs": [],
   "source": []
  },
  {
   "cell_type": "markdown",
   "id": "63b9af2b",
   "metadata": {},
   "source": [
    "7) Un niño está construyendo una pirámide con bloques. En el nivel más bajo coloca n\n",
    "bloques, en el siguiente nivel uno menos (n - 1), y así sucesivamente hasta llegar al\n",
    "último nivel con un solo bloque.\n",
    "\n",
    "Escribí una función recursiva contar_bloques(n) que reciba el número de bloques en el\n",
    "nivel más bajo y devuelva el total de bloques que necesita para construir toda la\n",
    "pirámide.\n",
    "\n",
    "Ejemplos:\n",
    "contar_bloques(1) → 1\n",
    "(1)\n",
    "contar_bloques(2) → 3\n",
    "(2 + 1)\n",
    "contar_bloques(4) → 10\n",
    "(4 + 3 + 2 + 1)"
   ]
  },
  {
   "cell_type": "code",
   "execution_count": null,
   "id": "c47d8194",
   "metadata": {},
   "outputs": [],
   "source": []
  },
  {
   "cell_type": "markdown",
   "id": "5771c3ab",
   "metadata": {},
   "source": [
    "8) Escribí una función recursiva llamada contar_digito(numero, digito) que reciba un\n",
    "número entero positivo (numero) y un dígito (entre 0 y 9), y devuelva cuántas veces\n",
    "aparece ese dígito dentro del número.\n",
    "\n",
    "Ejemplos:\n",
    "\n",
    "contar_digito(12233421, 2) → 3\n",
    "contar_digito(5555, 5) →4\n",
    "contar_digito(123456, 7) →0"
   ]
  }
 ],
 "metadata": {
  "kernelspec": {
   "display_name": "Python (myenv)",
   "language": "python",
   "name": "myenv"
  },
  "language_info": {
   "codemirror_mode": {
    "name": "ipython",
    "version": 3
   },
   "file_extension": ".py",
   "mimetype": "text/x-python",
   "name": "python",
   "nbconvert_exporter": "python",
   "pygments_lexer": "ipython3",
   "version": "3.11.2"
  }
 },
 "nbformat": 4,
 "nbformat_minor": 5
}
