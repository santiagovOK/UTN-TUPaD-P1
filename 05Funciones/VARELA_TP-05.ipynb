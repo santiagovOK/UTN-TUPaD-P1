{
 "cells": [
  {
   "cell_type": "markdown",
   "id": "9f12f073",
   "metadata": {},
   "source": [
    "**Trabajo práctico Nº5 - Funciones**\n",
    "Varela Santiago Octavio (Comisión 22)\n",
    "\n",
    "- **Resolución del trabajo práctico Nº5 al 2025-04-14**\n",
    "\n",
    "- **Estará también en [VARELA_TP-05.py](https://github.com/santiagovOK/UTN-TUPaD-P1/tree/main/05Funciones/VARELA_TP-05.py)**"
   ]
  },
  {
   "cell_type": "markdown",
   "id": "bb753eb3",
   "metadata": {},
   "source": [
    "1. Crear una función llamada imprimir_hola_mundo que imprima por pantalla el mensaje: “Hola Mundo!”. Llamar a esta función desde el programa principal."
   ]
  },
  {
   "cell_type": "code",
   "execution_count": null,
   "id": "98c86cac",
   "metadata": {},
   "outputs": [],
   "source": [
    "# Funciones\n",
    "\n",
    "# Creamos la función solicitada, que solo imprimirá \"Hola Mundo!\"\n",
    "\n",
    "def imprimir_hola_mundo():\n",
    "    print(\"Hola Mundo!\")\n",
    "\n",
    "# Programa principal\n",
    "\n",
    "# Llamamos a la función creada, sin parámetros ya que no tiene\n",
    "\n",
    "imprimir_hola_mundo()"
   ]
  },
  {
   "cell_type": "markdown",
   "id": "6e9e0ced",
   "metadata": {},
   "source": [
    "2. Crear una función llamada saludar_usuario(nombre) que reciba como parámetro un nombre y devuelva un saludo personalizado. Por ejemplo, si se llama con saludar_usuario(\"Marcos\"), deberá devolver: “Hola Marcos!”. Llamar a esta función desde el programa principal solicitando el nombre al usuario."
   ]
  },
  {
   "cell_type": "code",
   "execution_count": null,
   "id": "df08c9f2",
   "metadata": {},
   "outputs": [],
   "source": [
    "# Funciones\n",
    "\n",
    "# Función saludar_usuario, con un único argumento (nombre)\n",
    "def saludar_usuario(nombre):\n",
    "    print(f\"Hola {nombre}!\") # La función imprime este mensaje al ser ejecutada\n",
    "\n",
    "# Programa principal\n",
    "\n",
    "# Le solicitamos su nombre al usuario\n",
    "nombre = input(\"Ingresá tu nombre, así recibirás un saludo:\")\n",
    "\n",
    "# Llamamos a la función, ingresando `nombre` que es el nombre que le dimos a la variable  que almacenara el nombre del usuario\n",
    "saludar_usuario(nombre)"
   ]
  },
  {
   "cell_type": "markdown",
   "id": "51fd3bfe",
   "metadata": {},
   "source": [
    "3. Crear una función llamada informacion_personal(nombre, apellido, edad, residencia) que reciba cuatro parámetros e imprima: “Soy [nombre] [apellido], tengo [edad] años y vivo en [residencia]”. Pedir los datos al usuario y llamar a esta función con los valores ingresados."
   ]
  },
  {
   "cell_type": "code",
   "execution_count": null,
   "id": "4345123f",
   "metadata": {},
   "outputs": [],
   "source": [
    "# Funciones\n",
    "\n",
    "# Función informacion_personal, con varios argumentos (nombre, apellido, edad, residencia)\n",
    "def informacion_personal(nombre, apellido, edad, residencia):\n",
    "    print(f\"Soy {nombre} {apellido}, tengo {edad} años y vivo en {residencia}\") # La función imprime este mensaje al ser ejecutada\n",
    "\n",
    "# Programa principal\n",
    "\n",
    "# Le solicitamos datos al usuario que luego pasarán como argumentos en la función (podrían llamarse distinto)\n",
    "nombre = input(\"Ingresá tu nombre\")\n",
    "apellido = input(\"Ingresá tu apellido\")\n",
    "edad = int(input(\"Ingresá tu edad:\"))\n",
    "residencia = input(\"Ingresá tu lugar de residencia:\")\n",
    "\n",
    "# Ejecutamos la función ingresando como argumento las variables que almacenan los valores que ingresó el usuario\n",
    "informacion_personal(nombre, apellido, edad, residencia)\n",
    " "
   ]
  },
  {
   "cell_type": "markdown",
   "id": "23d663ae",
   "metadata": {},
   "source": [
    "4. Crear dos funciones: calcular_area_circulo(radio) que reciba el radio como parámetro y devuelva el área del círculo. `calcular_perimetro_circulo(radio)` que reciba el radio como parámetro y devuelva el perímetro del círculo. Solicitar el radio al usuario y llamar ambas funciones para mostrar los resultados."
   ]
  },
  {
   "cell_type": "code",
   "execution_count": null,
   "id": "08ef9822",
   "metadata": {},
   "outputs": [],
   "source": [
    "# Funciones\n",
    "\n",
    "# Importamos math para usar la función pi, necesaria para calcular área y perímetro de forma precisa\n",
    "\n",
    "import math\n",
    "\n",
    "# Construimos la primera funcion\n",
    "\n",
    "def calcular_area_circulo(radio):\n",
    "    area = math.pi * (radio ** 2) # Calculamos el area usando la función `pi` y el argumento `radio`\n",
    "    print(f\"El área del circulo es {area}\") # Imprimimos el valor resultante de `area`\n",
    "\n",
    "# Construimos la segunda funcion\n",
    "\n",
    "def calcular_perimetro_circulo(radio):\n",
    "    perimetro = 2 * math.pi * radio # Calculamos el perimetro usando la función `pi` y el argumento `radio`\n",
    "    print(f\"El perímetro del circulo es {perimetro}\") # Imprimimos el valor resultante de `perimetro`\n",
    "\n",
    "# Programa principal\n",
    "\n",
    "# Le solicitamos un valor de radio al usuario (en decimal)\n",
    "\n",
    "radio_usuario = float(input(\"Ingrese un valor para el radio del círculo:\"))\n",
    "\n",
    "# Llamamos a las dos funciones anteriormente creadas para realizar los cálculos, teniendo como argumento `radio_usuario` (radio ingresado por el usuario), que corresponde al argumento `radio` dentro de la funcion propiamente dicha\n",
    "\n",
    "calcular_area_circulo(radio_usuario)\n",
    "\n",
    "calcular_perimetro_circulo(radio_usuario)\n"
   ]
  },
  {
   "cell_type": "markdown",
   "id": "e2547da4",
   "metadata": {},
   "source": [
    "5. Crear una función llamada segundos_a_horas(segundos) que reciba\n",
    "una cantidad de segundos como parámetro y devuelva la cantidad de horas correspondientes. Solicitar al usuario los segundos y mostrar el resultado usando esta función."
   ]
  },
  {
   "cell_type": "code",
   "execution_count": null,
   "id": "5e178d9a",
   "metadata": {},
   "outputs": [],
   "source": [
    "# Funciones\n",
    "\n",
    "# Función para pasar segundos a horas. \n",
    "def segundos_a_horas(segundos):\n",
    "    # Dividimos los segundos por la cantidad de segundos correspondientes a una hora (60 * 60 = 3600) \n",
    "    hora = float(segundos / 3600)\n",
    "    # Imprimimos el mensaje correspodiente\n",
    "    print(f\"Los segundos ingresados {segundos} corresponden a {hora} horas\")\n",
    "\n",
    "# Programa principal\n",
    "\n",
    "# Primero solicitamos una cantidad de segundos al usuario\n",
    "segundos_usuario = int(input(\"Ingresá la cantidad de segundos que buscás que transformemos en horas: \"))\n",
    "\n",
    "# Luego ejecutamos la función, ingresando como argumento los `segundos_usuario`\n",
    "segundos_a_horas(segundos_usuario)"
   ]
  },
  {
   "cell_type": "markdown",
   "id": "19590b08",
   "metadata": {},
   "source": [
    "6. Crear una función llamada tabla_multiplicar(numero) que reciba un número como parámetro y imprima la tabla de multiplicar de ese número del 1 al 10. Pedir al usuario el número y llamar a la función."
   ]
  },
  {
   "cell_type": "code",
   "execution_count": null,
   "id": "20afb79d",
   "metadata": {},
   "outputs": [],
   "source": [
    "# Funciones\n",
    "\n",
    "# Definimos la función tabla_multiplicar, en donde se ingresa cualquier número como argumento `numero` para ser multiplicado hasta 10\n",
    "def tabla_multiplicar(numero):\n",
    "    # Operación para cada una de las 10 multiplicaciones, almacenadas en la variable resultado1, etc\n",
    "    # También podría hacerse con un bucle for\n",
    "    resultado1 = numero * 1 \n",
    "    resultado2 = numero * 2\n",
    "    resultado3 = numero * 3\n",
    "    resultado4 = numero * 4\n",
    "    resultado5 = numero * 5\n",
    "    resultado6 = numero * 6\n",
    "    resultado7 = numero * 7\n",
    "    resultado8 = numero * 8\n",
    "    resultado9 = numero * 9\n",
    "    resultado10 = numero * 10\n",
    "    # Imprimimos cada uno de los resultados de forma coherente y espaciada con `\\n` \n",
    "    print(f\"La tabla de multiplicar para {numero} es la siguiente:\\n{numero} x 1 = {resultado1}\\n{numero} x 2 = {resultado2}\\n{numero} x 3 = {resultado3}\\n{numero} x 4 = {resultado4}\\n{numero} x 5 = {resultado5}\\n{numero} x 6 = {resultado6}\\n{numero} x 7 = {resultado7}\\n{numero} x 8 = {resultado8}\\n{numero} x 9 = {resultado9}\\n{numero} x 10 = {resultado10}\")\n",
    "\n",
    "# Programa principal\n",
    "\n",
    "# Le solicitamos el número a multiplicar al usuario\n",
    "num_usuario = int(input(\"Ingresá el número sobre el que quieras conocer su tabla de multiplicar hasta 10: \"))\n",
    "\n",
    "# Llamamos a la función para mostrar la tabla de multiplicar, reemplazando el argumento default por `num_usuario`\n",
    "tabla_multiplicar(num_usuario)\n"
   ]
  },
  {
   "cell_type": "markdown",
   "id": "264c1eef",
   "metadata": {},
   "source": [
    "7. Crear una función llamada operaciones_basicas(a, b) que reciba dos números como parámetros y devuelva una tupla con el resultado de sumarlos, restarlos, multiplicarlos y dividirlos. Mostrar los resultados de forma clara."
   ]
  },
  {
   "cell_type": "code",
   "execution_count": null,
   "id": "c1bdf8bd",
   "metadata": {},
   "outputs": [],
   "source": [
    "# Funciones\n",
    "\n",
    "# Función que contiene todas las operaciones, ingresado numeros por argumentos `a` y `b`\n",
    "def operaciones_basicas(a, b):\n",
    "    # Operaciones en base a `a` y `b`\n",
    "    suma = a + b\n",
    "    resta = a - b\n",
    "    multiplicacion = a * b\n",
    "    division = a / b\n",
    "    # Usamos `return` para que vuelva los valores de las variables como `tuple`\n",
    "    return (suma, resta, multiplicacion, division)\n",
    "\n",
    "# Programa principal\n",
    "\n",
    "# Le solicitamos al usuario 2 números y los almacenamos en dos variables respectivamente\n",
    "num1_usuario = int(input(\"Ingresá un primer número para realizar operaciones de suma, resta, multiplicación y división: \"))\n",
    "num2_usuario = int(input(\"Ingresá un segundo número para realizar operaciones de suma, resta, multiplicación y división: \")) \n",
    "\n",
    "# Almacenamos las operaciones contenidas en la función `operaciones_basicas` a partir de los númeeros del usuario como argumentos\n",
    "\n",
    "resultados = operaciones_basicas(num1_usuario, num2_usuario)\n",
    "\n",
    "# Imprimimos un mensaje para las operaciones, más apropiado para el formato tupla\n",
    "print(f\"Los resultados de cada una de las operaciones (suma, resta, multiplicación y división) entre {num1_usuario} y {num2_usuario} son: {resultados} \\n\")\n",
    "\n",
    "# Demostración de que la variable `resultados` está siendo tomada como tipo tupla\n",
    "\n",
    "print(\"`resultados` es...\")\n",
    "print(type(resultados))\n",
    "\n"
   ]
  },
  {
   "cell_type": "markdown",
   "id": "fe781913",
   "metadata": {},
   "source": [
    "8. Crear una función llamada calcular_imc(peso, altura) que reciba el peso en kilogramos y la altura en metros, y devuelva el índice de masa corporal (IMC). Solicitar al usuario los datos y llamar a la función para mostrar el resultado con dos decimales."
   ]
  },
  {
   "cell_type": "code",
   "execution_count": null,
   "id": "a5767fa2",
   "metadata": {},
   "outputs": [],
   "source": [
    "# Funciones\n",
    "\n",
    "# Función para calcular imc, ingresando como argumentos peso y altura\n",
    "def calcular_imc(peso, altura):\n",
    "    # Operación para calcular imc en base a peso y altura (lo vimos en el tp Nº 1)\n",
    "    imc = (peso / (altura ** 2))\n",
    "    # Imprimimos el mensaje con la variable `imc` y, al llamarla, agregamos `:.2f` para que el output, que será de float o punto flotante, se limite hasta el segundo decimal.\n",
    "    print (f\"Su índice de masa corporal es: {imc:.2f}\")\n",
    "\n",
    "# Programa principal\n",
    "\n",
    "# Le solicitamos la altura y peso al usuario\n",
    "peso_usuario = float(input(\"Ingresá tu peso en kilogramos (solo el número, sin la unidad): \"))\n",
    "altura_usuario = float(input(\"Ingresá tu altura en metros (solo el número, sin la unidad): \"))\n",
    "\n",
    "# Llamamos a la función previamente creada `calcular_imc`, teniendo como argumento las últimas dos varibles que contienen los valores ingresados por el usuario.\n",
    "\n",
    "calcular_imc(peso_usuario, altura_usuario)\n"
   ]
  },
  {
   "cell_type": "markdown",
   "id": "d2ebf794",
   "metadata": {},
   "source": [
    "9. Crear una función llamada celsius_a_fahrenheit(celsius) que reciba una temperatura en grados Celsius y devuelva su equivalente en Fahrenheit. Pedir al usuario la temperatura en Celsius y mostrar el resultado usando la función."
   ]
  },
  {
   "cell_type": "code",
   "execution_count": null,
   "id": "208a5e7c",
   "metadata": {},
   "outputs": [],
   "source": [
    "# Funciones\n",
    "\n",
    "# Función para pasar de grados Celsius a Fahrenheit, teniendo como único argumento los grados `celsius`\n",
    "def celsius_a_fahrenheit(celsius):\n",
    "    # Operación para pasar los grados `celsius` a fahrenheit, almacenados en `fahrenheit`\n",
    "    fahrenheit = (celsius * 9/5) + 32\n",
    "    # Imprimimos el resultado del pasaje con un mensaje acorde\n",
    "    print(f\"La temperatura en grados Fahrenheit es: {fahrenheit}\")\n",
    "\n",
    "# Programa principal\n",
    "\n",
    "# Le solicitamos los grados celsius al usuario\n",
    "celsius_usuario = int(input(\"Ingresá la temperatura en Celsius (Cº) que hace en tu ciudad. La pasaremos a fahrenheit...\"))\n",
    "\n",
    "# Utilizamos la función creada para pasar los `celsius_usuario` que solicitamos a fahrenheit\n",
    "celsius_a_fahrenheit(celsius_usuario)"
   ]
  },
  {
   "cell_type": "markdown",
   "id": "861ea57e",
   "metadata": {},
   "source": [
    "10.Crear una función llamada calcular_promedio(a, b, c) que reciba tres números como parámetros y devuelva el promedio de ellos. Solicitar los números al usuario y mostrar el resultado usando esta función."
   ]
  },
  {
   "cell_type": "code",
   "execution_count": null,
   "id": "7be6d14d",
   "metadata": {},
   "outputs": [],
   "source": [
    "# Funciones\n",
    "\n",
    "# Creamos la función para calcular el promedio de los tres números, siendo estos argumentos contenidos en `a`, `b` y `c`\n",
    "def calcular_promedio(a, b, c):\n",
    "    # Operación para calcular el promedio\n",
    "    promedio = (a + b + c) / 3\n",
    "    # Retornamos la variable `promedio` con el valor final almacenado en ella\n",
    "    return promedio\n",
    "\n",
    "# Programa principal\n",
    "\n",
    "# Le solicitamos al usuarios los tres númerosa ingresar como argumentos\n",
    "num1_usuario = float(input(\"Ingresá un primer número: \"))\n",
    "num2_usuario = float(input(\"Ingresá un segundo número: \"))\n",
    "num3_usuario = float(input(\"Ingresá un tercer número, calcularemos el promedio junto con los dos últimos que ingresaste: \"))\n",
    "\n",
    "# Almacenamos el valor obtenido en `promedio` al haber llamado `calcular_promedio` para hacer el promedio de los tres valores solicitados al usuario anteriormente\n",
    "promedio = calcular_promedio(num1_usuario, num2_usuario, num3_usuario)\n",
    "\n",
    "# Imprimimos un mensaje acorde para el usuario, con los tres numeros que ingresó y su promedio final almacenado en `promedio`\n",
    "print(f\"El promedio resultante de {num1_usuario}, {num2_usuario} y {num3_usuario} es {promedio}. \")"
   ]
  }
 ],
 "metadata": {
  "kernelspec": {
   "display_name": "Python (myenv)",
   "language": "python",
   "name": "myenv"
  },
  "language_info": {
   "codemirror_mode": {
    "name": "ipython",
    "version": 3
   },
   "file_extension": ".py",
   "mimetype": "text/x-python",
   "name": "python",
   "nbconvert_exporter": "python",
   "pygments_lexer": "ipython3",
   "version": "3.11.2"
  }
 },
 "nbformat": 4,
 "nbformat_minor": 5
}
