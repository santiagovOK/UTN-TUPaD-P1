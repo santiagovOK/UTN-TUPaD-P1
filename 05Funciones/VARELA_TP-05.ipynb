{
 "cells": [
  {
   "cell_type": "markdown",
   "id": "9f12f073",
   "metadata": {},
   "source": [
    "**Trabajo práctico Nº5 - Funciones**\n",
    "Varela Santiago Octavio (Comisión 22)\n",
    "\n",
    "- **Resolución del trabajo práctico Nº5 al 2025-04-13**\n",
    "\n",
    "- **Estará también en [VARELA_TP-05.py](https://github.com/santiagovOK/UTN-TUPaD-P1/tree/main/05Funciones/VARELA_TP-05.py)**"
   ]
  },
  {
   "cell_type": "markdown",
   "id": "bb753eb3",
   "metadata": {},
   "source": [
    "1. Crear una función llamada imprimir_hola_mundo que imprima por pantalla el mensaje: “Hola Mundo!”. Llamar a esta función desde el programa principal."
   ]
  },
  {
   "cell_type": "code",
   "execution_count": null,
   "id": "98c86cac",
   "metadata": {},
   "outputs": [
    {
     "name": "stdout",
     "output_type": "stream",
     "text": [
      "Hola Mundo!\n"
     ]
    }
   ],
   "source": [
    "# Funciones\n",
    "\n",
    "# Creamos la función solicitada, que solo imprimirá \"Hola Mundo!\"\n",
    "\n",
    "def imprimir_hola_mundo():\n",
    "    print(\"Hola Mundo!\")\n",
    "\n",
    "# Programa principal\n",
    "\n",
    "# Llamamos a la función creada, sin parámetros ya que no tiene\n",
    "\n",
    "imprimir_hola_mundo()"
   ]
  },
  {
   "cell_type": "markdown",
   "id": "6e9e0ced",
   "metadata": {},
   "source": [
    "2. Crear una función llamada saludar_usuario(nombre) que reciba como parámetro un nombre y devuelva un saludo personalizado. Por ejemplo, si se llama con saludar_usuario(\"Marcos\"), deberá devolver: “Hola Marcos!”. Llamar a esta función desde el programa principal solicitando el nombre al usuario."
   ]
  },
  {
   "cell_type": "code",
   "execution_count": 3,
   "id": "df08c9f2",
   "metadata": {},
   "outputs": [
    {
     "name": "stdout",
     "output_type": "stream",
     "text": [
      "Hola Santiago!\n"
     ]
    }
   ],
   "source": [
    "# Funciones\n",
    "\n",
    "def saludar_usuario(nombre):\n",
    "    print(f\"Hola {nombre}!\")\n",
    "\n",
    "# Programa principal\n",
    "\n",
    "nombre = input(\"Ingresá tu nombre, así recibirás un saludo:\")\n",
    "saludar_usuario(nombre)"
   ]
  },
  {
   "cell_type": "markdown",
   "id": "51fd3bfe",
   "metadata": {},
   "source": [
    "3. Crear una función llamada informacion_personal(nombre, apellido, edad, residencia) que reciba cuatro parámetros e imprima: “Soy [nombre] [apellido], tengo [edad] años y vivo en [residencia]”. Pedir los datos al usuario y llamar a esta función con los valores ingresados."
   ]
  },
  {
   "cell_type": "markdown",
   "id": "23d663ae",
   "metadata": {},
   "source": [
    "4. Crear dos funciones: calcular_area_circulo(radio) que reciba el radio como parámetro y devuelva el área del círculo. `calcular_perimetro_circulo(radio)` que reciba el radio como parámetro y devuelva el perímetro del círculo. Solicitar el radio al usuario y llamar ambas funciones para mostrar los resultados."
   ]
  },
  {
   "cell_type": "markdown",
   "id": "e2547da4",
   "metadata": {},
   "source": [
    "5. Crear una función llamada segundos_a_horas(segundos) que reciba\n",
    "una cantidad de segundos como parámetro y devuelva la cantidad de horas correspondientes. Solicitar al usuario los segundos y mostrar el resultado usando esta función."
   ]
  },
  {
   "cell_type": "markdown",
   "id": "19590b08",
   "metadata": {},
   "source": [
    "6. Crear una función llamada tabla_multiplicar(numero) que reciba un número como parámetro y imprima la tabla de multiplicar de ese número del 1 al 10. Pedir al usuario el número y llamar a la función."
   ]
  },
  {
   "cell_type": "markdown",
   "id": "264c1eef",
   "metadata": {},
   "source": [
    "7. Crear una función llamada operaciones_basicas(a, b) que recibados números como parámetros y devuelva una tupla con el resultado de sumarlos, restarlos, multiplicarlos y dividirlos. Mostrar los resultados de forma clara."
   ]
  },
  {
   "cell_type": "markdown",
   "id": "fe781913",
   "metadata": {},
   "source": [
    "8. Crear una función llamada calcular_imc(peso, altura) que reciba el peso en kilogramos y la altura en metros, y devuelva el índice de masa corporal (IMC). Solicitar al usuario los datos y llamar a la función para mostrar el resultado con dos decimales."
   ]
  },
  {
   "cell_type": "markdown",
   "id": "d2ebf794",
   "metadata": {},
   "source": [
    "9. Crear una función llamada celsius_a_fahrenheit(celsius) que reciba una temperatura en grados Celsius y devuelva su equivalente en Fahrenheit. Pedir al usuario la temperatura en Celsius y mostrar el resultado usando la función."
   ]
  },
  {
   "cell_type": "markdown",
   "id": "861ea57e",
   "metadata": {},
   "source": [
    "10.Crear una función llamada calcular_promedio(a, b, c) que reciba tres números como parámetros y devuelva el promedio de ellos. Solicitar los números al usuario y mostrar el resultado usando esta función."
   ]
  }
 ],
 "metadata": {
  "kernelspec": {
   "display_name": "Python (myenv)",
   "language": "python",
   "name": "myenv"
  },
  "language_info": {
   "codemirror_mode": {
    "name": "ipython",
    "version": 3
   },
   "file_extension": ".py",
   "mimetype": "text/x-python",
   "name": "python",
   "nbconvert_exporter": "python",
   "pygments_lexer": "ipython3",
   "version": "3.11.2"
  }
 },
 "nbformat": 4,
 "nbformat_minor": 5
}
