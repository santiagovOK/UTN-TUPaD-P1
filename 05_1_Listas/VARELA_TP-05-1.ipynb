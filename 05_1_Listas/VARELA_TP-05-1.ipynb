{
 "cells": [
  {
   "cell_type": "markdown",
   "id": "6d07f42a",
   "metadata": {},
   "source": [
    "# Trabajo práctico Nº5.1 - Listas -  Varela Santiago Octavio (Comisión 22)\n",
    "\n",
    "**Resolución del trabajo práctico Nº5 al 2025-04-28**\n",
    "\n",
    "Respuestas también en https://github.com/santiagovOK/UTN-TUPaD-P1/tree/main/05_1_Listas/VARELA_TP-05-1.py"
   ]
  },
  {
   "cell_type": "markdown",
   "id": "65948362",
   "metadata": {},
   "source": [
    "1) Crear una lista con los números del 1 al 100 que sean múltiplos de 4. Utilizar la función range."
   ]
  },
  {
   "cell_type": "code",
   "execution_count": null,
   "id": "9a47bc10",
   "metadata": {},
   "outputs": [],
   "source": [
    "# Creamos la variable multiplos_cuatro para almacenar el rango que nos pide la consigna\n",
    "multiplos_cuatro = range(4,101,4)\n",
    "\n",
    "# Creamos una segunda variable en donde pasaremos la variable anterior a tipo `list` \n",
    "multiplos_cuatro_lista= list(multiplos_cuatro)\n",
    "\n",
    "# También podría almacenarse de la siguiente manera `multiplos_cuatro_lista = list(range(4, 101, 4))`\n",
    "\n",
    "# Imprimimos la lista anteriormente almacenada en `multiplos_cuatro_lista`\n",
    "\n",
    "print(multiplos_cuatro_lista)\n",
    "\n",
    "# Imprimimos el detalle del tipo de dato que es `multiplos_cuatro_lista` para que se comprenda que es una lista\n",
    "print(\"Tipo de dato de lo impreso en la línea anterior:\")\n",
    "print(type(multiplos_cuatro_lista))"
   ]
  },
  {
   "cell_type": "markdown",
   "id": "f1d09083",
   "metadata": {},
   "source": [
    "2) Crear una lista con cinco elementos (colocar los elementos que más te gusten) y mostrar el penúltimo. ¡Puedes hacerlo como se muestra en los videos o bien investigar cómo funciona el indexing con números negativos!"
   ]
  },
  {
   "cell_type": "code",
   "execution_count": null,
   "id": "43dab669",
   "metadata": {},
   "outputs": [],
   "source": [
    "# Creamos la variable `lista_frutas`, en donde almacenamos los elementos de la lista\n",
    "lista_frutas = [\"banana\", \"manzana\", \"naranja\", \"frutillas\", \"kiwi\"]\n",
    "\n",
    "# Imprimimos el penúltimo elemento de `lista_frutas` con la posición `[-2]`, que es la forma de indexing con números negativos que correspondería a la posición `[3]` en positivo en este caso\n",
    "print(lista_frutas [-2])\n"
   ]
  },
  {
   "cell_type": "markdown",
   "id": "11c5260e",
   "metadata": {},
   "source": [
    "3) Crear una lista vacía, agregar tres palabras con append e imprimir la lista resultante por pantalla. Pista: para crear una lista vacía debes colocar los corchetes sin nada en su interior. Por ejemplo:\n",
    "\n",
    "lista_vacia = []"
   ]
  },
  {
   "cell_type": "code",
   "execution_count": null,
   "id": "fe174ab3",
   "metadata": {},
   "outputs": [],
   "source": [
    "# Creamos la variable `lista_vacía` que almacenará los elementos\n",
    "lista_vacia = []\n",
    "\n",
    "# Agregamos elementos a `lista_vacia` con `.append` (uno a la vez)\n",
    "lista_vacia.append(\"Así\")\n",
    "lista_vacia.append(\"agrego\")\n",
    "lista_vacia.append(\"elementos\")\n",
    "\n",
    "# Imprimimos la `lista_vacia` con los elementos ya ingresados\n",
    "print(lista_vacia)"
   ]
  },
  {
   "cell_type": "markdown",
   "id": "d47ba32c",
   "metadata": {},
   "source": [
    "4) Reemplazar el segundo y último valor de la lista “animales” con las palabras “loro” y “oso”, respectivamente. Imprimir la lista resultante por pantalla. ¡Puedes hacerlo como se muestra en los videos o bien investigar cómo funciona el indexing con números negativos!\n",
    "\n",
    "animales = [\"perro\", \"gato\", \"conejo\", \"pez\"]"
   ]
  },
  {
   "cell_type": "code",
   "execution_count": null,
   "id": "bb30b656",
   "metadata": {},
   "outputs": [],
   "source": [
    "# Creamos la variable `animales` para almacenar los elementos de la lista original\n",
    "animales = [\"perro\", \"gato\", \"conejo\", \"pez\"]\n",
    "\n",
    "# Imprimimos la lista original `animales` para mejor entendimiento en la salida\n",
    "print(\"Lista original: \", animales)\n",
    "\n",
    "# Cambiamos el segundo `[1]` y el último `[3]` elemento de la lista por los solicitados, pasando por las posiciones respectivas\n",
    "animales[1] = \"loro\"\n",
    "animales[3] = \"oso\"\n",
    "\n",
    "# Imprimimos la lista modificada\n",
    "print(\"Lista modificada: \", animales)\n",
    "\n"
   ]
  },
  {
   "cell_type": "markdown",
   "id": "46fc72b2",
   "metadata": {},
   "source": [
    "5) Analizar el siguiente programa y explicar con tus palabras qué es lo que realiza.\n",
    "\n",
    "```py\n",
    "numeros = [8, 15, 3, 22, 7]\n",
    "\n",
    "numeros.remove(max(numeros))\n",
    "print(numeros)\n",
    "```"
   ]
  },
  {
   "cell_type": "code",
   "execution_count": null,
   "id": "e62dc457",
   "metadata": {},
   "outputs": [],
   "source": [
    "\"\"\" \n",
    "El programa expuesto anteriormente, dentro de la consigna 5), contiene una variable `numeros` que almacena una lista de números en su primer línea y luego borra el número máximo de esa lista.\n",
    "\n",
    "En la siguiente línea se realiza justamente ese proceso. Se llama a la variable `numeros` junto con la función `.remove` para borrar uno de los elementos y se ingresa como argumento `max(numeros)` para obtener el número máximo de la lista en `numeros`. Por lo tanto, es ese número máximo que ingresa como argumento para borrarse de la lista.\n",
    "\n",
    "Al finalizar, se imprime con `print` la variable `numeros`,  que ya fue actualizada sin ese elemento eliminado, que corresponde al número `22`.\n",
    "\n",
    "\n",
    "\"\"\""
   ]
  },
  {
   "cell_type": "markdown",
   "id": "8987a745",
   "metadata": {},
   "source": [
    "6) Crear una lista con números del 10 al 30 (incluído), haciendo saltos de 5 en 5 y mostrar por pantalla los dos primeros."
   ]
  },
  {
   "cell_type": "code",
   "execution_count": null,
   "id": "c8c99751",
   "metadata": {},
   "outputs": [],
   "source": [
    "# Creamos la variable `lista_en_cinco` que almacena la lista con el rango propuesto (similar a la consigna 1.)\n",
    "lista_en_cinco = list(range(10, 31, 5))\n",
    "\n",
    "# Imprimimos la lista completa\n",
    "print(\"Lista completa:\")\n",
    "print(lista_en_cinco)\n",
    "\n",
    "# Imprimimos los números que nos propone la consigna (los dos primeros)\n",
    "print(\"Primeros dos números de la lista:\")\n",
    "print(lista_en_cinco[0], lista_en_cinco[1])\n",
    "\n",
    "# Imprimimos el tipo de dato para hacer notar que es una lista y no otro\n",
    "print(\"Tipo de dato de lo impreso en la línea anterior:\")\n",
    "print(type(lista_en_cinco))"
   ]
  },
  {
   "cell_type": "markdown",
   "id": "6d772131",
   "metadata": {},
   "source": [
    "7) Reemplazar los dos valores centrales (índices 1 y 2) de la lista “autos” por dos nuevos valores cualesquiera.\n",
    "\n",
    "autos = [\"sedan\", \"polo\", \"suran\", \"gol\"]"
   ]
  },
  {
   "cell_type": "code",
   "execution_count": null,
   "id": "bc8add9e",
   "metadata": {},
   "outputs": [],
   "source": [
    "# Creamos la variable `autos` para almacenar los elementos de la lista original\n",
    "autos = [\"sedan\", \"polo\", \"suran\", \"gol\"]\n",
    "\n",
    "# Imprimimos la lista original `autos` para referencia\n",
    "print(\"Lista original: \", autos)\n",
    "\n",
    "# Reemplazamos los valores de las posiciones `[0]` y `[1]`\n",
    "autos[1] = \"gris\"\n",
    "autos[2] = \"oscuro\"\n",
    "\n",
    "# Imprimimos la lista modificada\n",
    "print(\"Lista modificada: \", autos)\n"
   ]
  },
  {
   "cell_type": "markdown",
   "id": "f73cbc47",
   "metadata": {},
   "source": [
    "8) Crear una lista vacía llamada \"dobles\" y agregar el doble de 5, 10 y 15 usando append\n",
    "directamente. Imprimir la lista resultante por pantalla."
   ]
  },
  {
   "cell_type": "code",
   "execution_count": null,
   "id": "8b224c3c",
   "metadata": {},
   "outputs": [],
   "source": [
    "# Creamos la variable `dobles` como lista vacía\n",
    "dobles = []\n",
    "\n",
    "# Usamos `append` multiplicando(*) por 2 en cada caso para añadir el doble de cada número por cada elemento \n",
    "dobles.append(5*2)\n",
    "dobles.append(10*2)\n",
    "dobles.append(15*2)\n",
    "\n",
    "# Imprimimos la lista resultante\n",
    "print(dobles)"
   ]
  },
  {
   "cell_type": "markdown",
   "id": "3965ad85",
   "metadata": {},
   "source": [
    "9) Dada la lista “compras”, cuyos elementos representan los productos comprados por diferentes clientes:\n",
    "compras = [[\"pan\", \"leche\"], [\"arroz\", \"fideos\", \"salsa\"],[\"agua\"]]\n",
    "\n",
    "a- Agregar \"jugo\" a la lista del tercer cliente usando append.\n",
    "b- Reemplazar \"fideos\" por \"tallarines\" en la lista del segundo cliente.\n",
    "c- Eliminar \"pan\" de la lista del primer cliente.\n",
    "d- Imprimir la lista resultante por pantalla"
   ]
  },
  {
   "cell_type": "code",
   "execution_count": null,
   "id": "e1aa8e93",
   "metadata": {},
   "outputs": [],
   "source": [
    "# Creamos la variable `compras` que incluirá la lista general y sus listas anidadas\n",
    "compras = [[\"pan\", \"leche\"], [\"arroz\", \"fideos\", \"salsa\"],[\"agua\"]]\n",
    "\n",
    "# Añadimos \"jugo\" a la tercera lista anidada (posición [2]) - punto a)\n",
    "compras[2].append(\"jugo\")\n",
    "\n",
    "# Imprimimos la lista anidada [2] para mostrar el cambio\n",
    "print(compras[2])\n",
    "\n",
    "# Cambiamos el elemento \"fideos\" `[1][1]` de la lista anidada `[1]` por \"tallarines\" - punto b)\n",
    "compras[1][1] = \"tallarines\"\n",
    "\n",
    "# Imprimimos la lista anidada con el cambio anterior\n",
    "print(compras[1])\n",
    "\n",
    "# Eliminamos \"pan\" de la lista anidada `[0]` del primer cliente\n",
    "compras[0].remove(\"pan\")\n",
    "\n",
    "# Imprimimos la lista anidada `[0]`\n",
    "print(compras[0])\n",
    "\n",
    "# Imprimimos la lista final con todos los cambios en las listas anidadas\n",
    "print(\"Lista final con todos los cambios en las compras de los clientes: \", compras)"
   ]
  },
  {
   "cell_type": "markdown",
   "id": "6321a9e4",
   "metadata": {},
   "source": [
    "10) Elaborar una lista anidada llamada “lista_anidada” que contenga los siguientes elementos:\n",
    "●​ Posición lista_anidada[0]: 15\n",
    "●​ Posición lista_anidada[1]: True\n",
    "●​ Posición lista_anidada[2][0]: 25.5\n",
    "●​ Posición lista_anidada[2][1]: 57.9\n",
    "●​ Posición lista_anidada[2][2]: 30.6\n",
    "●​ Posición lista_anidada[3]: False\n",
    "Imprimir la lista resultante por pantalla."
   ]
  },
  {
   "cell_type": "code",
   "execution_count": null,
   "id": "2c1c5724",
   "metadata": {},
   "outputs": [],
   "source": [
    "# Creamos la variable `lista_anidada`\n",
    "lista_anidada = [15, True, [25.5, 57.9, 30.6], False]\n",
    "\n",
    "# Imprimimos la `lista_anidada[0]` con el elemento `15`. Dado que es un solo elemento no es necesario anidar\n",
    "print(lista_anidada[0])\n",
    "\n",
    "# Imprimimos la `lista_anidada[1]` con el elemento `True`. Dado que es un solo elemento no es necesario anidar\n",
    "print(lista_anidada[1])\n",
    "\n",
    "# Imprimimos los diferentes elementos `[2][0]` , `[2][1]` , `[2][2]` de la `lista_anidada[2]`\n",
    "print(lista_anidada[2][0])\n",
    "print(lista_anidada[2][1])\n",
    "print(lista_anidada[2][2])\n",
    "\n",
    "# Imprimimos la `lista_anidada[2]` para mejor referencia de lo anterior\n",
    "print(lista_anidada[2])\n",
    "\n",
    "# Imprimimos la `lista_anidada[3]` con el elemento `False`. Dado que es un solo elemento no es necesario anidar\n",
    "print(lista_anidada[3])"
   ]
  }
 ],
 "metadata": {
  "kernelspec": {
   "display_name": "Python (myenv)",
   "language": "python",
   "name": "myenv"
  },
  "language_info": {
   "codemirror_mode": {
    "name": "ipython",
    "version": 3
   },
   "file_extension": ".py",
   "mimetype": "text/x-python",
   "name": "python",
   "nbconvert_exporter": "python",
   "pygments_lexer": "ipython3",
   "version": "3.11.2"
  }
 },
 "nbformat": 4,
 "nbformat_minor": 5
}
