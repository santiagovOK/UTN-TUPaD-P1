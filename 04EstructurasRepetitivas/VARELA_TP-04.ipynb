{
 "cells": [
  {
   "cell_type": "markdown",
   "id": "a2e7e49c",
   "metadata": {},
   "source": [
    "**Trabajo práctico Nº4 - Estructuras repetitivas**\n",
    "Varela Santiago Octavio (Comisión 22)\n",
    "\n",
    "- **Resolución del trabajo práctico Nº4 al 2025-04-08**\n",
    "\n",
    "- **Estará también en [VARELA_TP-04.py](https://github.com/santiagovOK/UTN-TUPaD-P1/tree/main/04EstructurasRepetitivas/VARELA_TP-04.py)**"
   ]
  },
  {
   "cell_type": "markdown",
   "id": "fb424089",
   "metadata": {},
   "source": [
    "1) Crea un programa que imprima en pantalla todos los números enteros desde 0 hasta 100\n",
    "(incluyendo ambos extremos), en orden creciente, mostrando un número por línea."
   ]
  },
  {
   "cell_type": "code",
   "execution_count": null,
   "id": "6530a514",
   "metadata": {},
   "outputs": [],
   "source": [
    "# Inicializamos `enteros` , qué será el contador que irá sumando 1 a 1 hasta 100\n",
    "enteros = 0\n",
    "\n",
    "# Bucle for, ya que sabemos cuando terminará el ciclo. 101 será el límite ya que debemos incluir hasta el 100 inclusive\n",
    "for enteros in range(enteros, 101):\n",
    "    print(f\"Este es el entero *{enteros}*\")\n",
    "    enteros += 1 # Sumamos 1 a enteros en cada iteración, empezando en 0 que se imprime en el paso anterior dentro de la primera iteración."
   ]
  },
  {
   "cell_type": "markdown",
   "id": "18e13317",
   "metadata": {},
   "source": [
    "2) Desarrolla un programa que solicite al usuario un número entero y determine la cantidad de dígitos que contiene."
   ]
  },
  {
   "cell_type": "code",
   "execution_count": null,
   "id": "6cfb8b8e",
   "metadata": {},
   "outputs": [
    {
     "name": "stdout",
     "output_type": "stream",
     "text": [
      "El número ingresado tiene 3 digitos.\n"
     ]
    }
   ],
   "source": [
    "num_usuario = int(input(\"Ingresá un número entero positivo: \")) # Solicitamos un número al usuario.\n",
    "\n",
    "# Inicializamos `digitos` que será el contador\n",
    "digitos = 0\n",
    "\n",
    "# Inicializamos una estructura condicional, ya que debemos tratar el caso de 0 diferente al resto en `ìf`\n",
    "if num_usuario == 0:\n",
    "    digitos = 1\n",
    "else:\n",
    "    # Bucle para el resto de los casos. Sí la última división da 0 o menos (que séra en los casos donde solo hay un número de un dígito), el bucle se detiene. Es por eso que no podemos incluir un input del usuario `0` aquí, ya que sino el bucle no se ejecutaría\n",
    "    while num_usuario > 0:\n",
    "        digitos += 1\n",
    "        num_usuario = num_usuario // 10 # Se divide por 10, ya que al hacerlo siempre se quita el último dígito de un número entero\n",
    "\n",
    "print(f\"El número ingresado tiene {digitos} digitos.\") # Impresión del mensaje final para el usuario\n"
   ]
  },
  {
   "cell_type": "markdown",
   "id": "35a62f4d",
   "metadata": {},
   "source": [
    "3) Escribe un programa que sume todos los números enteros comprendidos entre dos valores\n",
    "dados por el usuario, excluyendo esos dos valores."
   ]
  },
  {
   "cell_type": "code",
   "execution_count": null,
   "id": "3f1fc7e1",
   "metadata": {},
   "outputs": [
    {
     "name": "stdout",
     "output_type": "stream",
     "text": [
      "Comprendiendo el rango entre 1 y 5 sin sumar ambos...\n",
      "Sumamos 2\n",
      "Sumamos 3\n",
      "Sumamos 4\n",
      "El resultado de la suma entre todos los valores quitando ambos números es: 9\n"
     ]
    }
   ],
   "source": [
    "# Le solicitamos dos números al usuario\n",
    "primer_numUsuario = int(input(\"Ingrese un número: \"))\n",
    "segundo_numUsuario = int(input(\"Ingrese otro número: \"))\n",
    "\n",
    "# Almacenamos los rangos en variables para una mejor lectura de código\n",
    "rango_minimo = primer_numUsuario + 1\n",
    "rango_maximo = segundo_numUsuario\n",
    "\n",
    "# Inicializamos sumatoria para luego almacenar la suma\n",
    "sumatoria = 0\n",
    "\n",
    "# Primer mensaje para guiar al usuario sobre la operación que se realizará\n",
    "print(f\"Comprendiendo el rango entre {primer_numUsuario} y {segundo_numUsuario} sin sumar ambos...\")\n",
    "\n",
    "# Iniciamos el bucle para ir sumando los valores, excepto los extremos\n",
    "for i in range(rango_minimo, rango_maximo):\n",
    "    sumatoria += i # Siendo i el contador que irá de uno en uno, se irá almacenando la suma de `i` en cada iteración dentro de `sumatoria`\n",
    "    print(f\"Sumamos {i}\") # Impresión de cada uno de los números que se van sumando\n",
    "\n",
    "# Imprimimos el resultado final\n",
    "print(f\"El resultado de la suma entre todos los valores quitando ambos números es: {sumatoria}\")\n",
    "\n"
   ]
  },
  {
   "cell_type": "markdown",
   "id": "75b2b8c9",
   "metadata": {},
   "source": [
    "4) Elabora un programa que permita al usuario ingresar números enteros y los sume en\n",
    "secuencia. El programa debe detenerse y mostrar el total acumulado cuando el usuario ingrese un 0."
   ]
  },
  {
   "cell_type": "code",
   "execution_count": null,
   "id": "bbf49e17",
   "metadata": {},
   "outputs": [],
   "source": [
    "# Solicitamos al usuario que ingrese un número entero positivo\n",
    "num_usuario = int(input(\"Ingresá un número entero positivo. Cada número que ingreses se sumará con los anteriores. Para salir del programa, ingresá `0`\"))\n",
    "# Creamos la variable `suma` para almacenar la suma de los números ingresados\n",
    "suma = 0\n",
    "\n",
    "# Imprimimos un primer mensaje para guiar al usuario\n",
    "print(f\"Hasta el momento solo ingresaste un número , entonces...\\n\")\n",
    "\n",
    "# Iniciamos el bucle que permitirá seguir ingresando números y sumarlos al resultado parcial\n",
    "# La condición `num_usuario` distinto (!=) de 0 indica que el bucle funcionará mientras que no se ingrese 0\n",
    "\n",
    "while num_usuario != 0:\n",
    "    suma += num_usuario # Se suma el último número ingresado a la suma general\n",
    "    print(f\"La suma hasta el momento da como resultado {suma}\")\n",
    "    num_usuario = int(input(\"Ingresá un número entero. Cada número que ingreses se sumará con los anteriores. Para salir del programa, ingresá `0`\")) # Repetimos la primer variable dentro del bucle while para que se le vuelva a solicitar al usuario un número\n",
    "    print(f\"Ahora ingresaste {num_usuario}, entonces...\\n\") # Mensaje con el núevo número ingresado, se repite el ciclo\n",
    "\n",
    "print(f\"El programa ha finalizado porque colocaste `0`. La suma de todos los números ingresados es de {suma}\") # Imprimimos un mensaje con la suma final al finalizar el programa\n"
   ]
  },
  {
   "cell_type": "markdown",
   "id": "644d8515",
   "metadata": {},
   "source": [
    "5) Crea un juego en el que el usuario deba adivinar un número aleatorio entre 0 y 9. Al final, el programa debe mostrar cuántos intentos fueron necesarios para acertar el número."
   ]
  },
  {
   "cell_type": "code",
   "execution_count": null,
   "id": "29c17067",
   "metadata": {},
   "outputs": [],
   "source": [
    "import random # Importamos el paquete random, que también usamos en el TP Nª3\n",
    "\n",
    "# Establecemos el número aleatorio a adivinar, gracias a la función random\n",
    "num_aleatorio = [random.randint(1, 9)]\n",
    "\n",
    "# Le solicitamos al usuario un primer número\n",
    "num_usuario = int(input(\"Ingresá el número entero positivo que creés que será el número ganador: \"))\n",
    "\n",
    "# Establecemos la variable `intentos` en 1, ya que el ingreso anterior ya establece un primer intento del usuario\n",
    "intentos = 1\n",
    "\n",
    "# Creamos un bucle while con `not in` para evitar errores. Mientras num_usuario no sea igual a num_aleatorio, while continuará iterando.\n",
    "while num_usuario not in num_aleatorio:\n",
    "    # Colocamos este mensaje primero ya que así totamos el primer intento fuera del bucle.\n",
    "    print(f\"Ingresaste {num_usuario}. Este fue tu intento {intentos}. \")\n",
    "    print(\"Número equivocado, intentá nuevamente.\")\n",
    "    # Le solicitamos nuevamente un número al usuario en caso de que el primero no haya sido certero (y así se repetirá hasta que el bucle no se ejecute más.)\n",
    "    num_usuario = int(input(\"Ingresá otro número entero positivo: \")) \n",
    "    # Sumamos un intento luego de haber ingresado otro número\n",
    "    intentos += 1\n",
    "\n",
    "# Imprimimos un mensaje final de victoria en caso de que el usuario haya acertado el número.\n",
    "print(f\"Ganaste! El número ingresado {num_usuario} es igual al número ganador {num_aleatorio}. Lo hiciste en {intentos} intentos.\")\n",
    "\n"
   ]
  },
  {
   "cell_type": "markdown",
   "id": "39cba949",
   "metadata": {},
   "source": [
    "6) Desarrolla un programa que imprima en pantalla todos los números pares comprendidos\n",
    "entre 0 y 100, en orden decreciente."
   ]
  },
  {
   "cell_type": "code",
   "execution_count": null,
   "id": "07c0c4e0",
   "metadata": {},
   "outputs": [],
   "source": [
    "# Inicializamos `numero`\n",
    "numero = 0\n",
    "\n",
    "# Comenzamos un bucle for. Para comenzar desde 100 inclusive, tenemos que colocar `100` como primer parámetro en range, `1` como segundo \n",
    "# (iríamos de 100 hasta 2 inclusive) y por último -1 (indicando una frecuencia decreciente de -1). \n",
    "for numero in range (100, 1, -1):\n",
    "    # Cada valor que irá pasando por range se filtrará con este condicional para pares, usando modulo (%)\n",
    "    if numero % 2 == 0:\n",
    "        print(f\"Número par: {numero}\")\n",
    "\n",
    "# O\n",
    "\n",
    "numeros = 0\n",
    "\n",
    "# Directamente usando frecuencia -2 para ir de par en par\n",
    "\n",
    "for numeros in range (100, 1, -2): \n",
    "    print (f\"Número par: {numeros}\")\n",
    "\n"
   ]
  },
  {
   "cell_type": "markdown",
   "id": "9646c50c",
   "metadata": {},
   "source": [
    "7) Crea un programa que calcule la suma de todos los números comprendidos entre 0 y un número entero positivo indicado por el usuario."
   ]
  },
  {
   "cell_type": "code",
   "execution_count": null,
   "id": "10eed22e",
   "metadata": {},
   "outputs": [],
   "source": [
    "# Le solicitamos un número al usuario\n",
    "numUsuario = int(input(\"Ingrese un número entero positivo: \"))\n",
    "\n",
    "# Inicializamos sumatoria para luego almacenar la suma\n",
    "sumatoria = 0\n",
    "\n",
    "# Primer mensaje para guiar al usuario sobre la operación que se realizará\n",
    "print(f\"Comprendiendo el rango entre 0 y {numUsuario} sin sumar este último...\")\n",
    "\n",
    "# Iniciamos el bucle para ir sumando los valores, excepto el número extremo ingresado por el usuario\n",
    "for i in range(numUsuario):\n",
    "    sumatoria += i # Siendo i el contador que irá de uno en uno, se irá almacenando la suma de `i` en cada iteración dentro de `sumatoria`\n",
    "    print(f\"Sumamos {i}\") # Impresión de cada uno de los números que se van sumando\n",
    "\n",
    "# Imprimimos el resultado final\n",
    "print(f\"El resultado de la suma entre todos los valores, quitando el número ingresado por el usuario, es: {sumatoria}\")"
   ]
  },
  {
   "cell_type": "markdown",
   "id": "fd0e207e",
   "metadata": {},
   "source": [
    "8) Escribe un programa que permita al usuario ingresar 100 números enteros. Luego, el programa debe indicar cuántos de estos números son pares, cuántos son impares, cuántos son negativos y cuántos son positivos. (Nota: para probar el programa puedes usar una cantidad menor, pero debe estar preparado para procesar 100 números con un solo cambio)."
   ]
  },
  {
   "cell_type": "code",
   "execution_count": null,
   "id": "b1bf5465",
   "metadata": {},
   "outputs": [],
   "source": [
    "# Inicializamos las variables a utilizar\n",
    "\n",
    "num_Usuario = 0\n",
    "contador = 0\n",
    "\n",
    "# Establecemos la variable `limite` en 100. Solo cambiando este número podemos probar con una cantidad menor si es necesario \n",
    "limite = 100\n",
    "\n",
    "# Inicializamos los contadores para cada caso\n",
    "contador_pares = 0\n",
    "contador_impares = 0\n",
    "contador_negativos = 0\n",
    "contador_positivos = 0\n",
    "\n",
    "# Inicializamos el bucle while a utilizar. `contador` arranca en 0 inclusive y el `limite` es 100\n",
    "\n",
    "while contador < limite:\n",
    "\n",
    "    # Le pedimos al usuario que ingrese un número dentro del bucle, para que cada vez que itere se le pida hasta llegar a la cantidad `limite`\n",
    "    num_Usuario = int(input(f\"Ingrese un número entero, luego deberás agregar más números hasta llegar a {limite}\"))\n",
    "\n",
    "    # Primer estructura condicional dentro del bucle para establecer si `num_Usuario` es par o impar y sumarlo a su contador correspondiente\n",
    "    if num_Usuario % 2 == 0:\n",
    "        contador_pares += 1\n",
    "    elif num_Usuario % 2 != 0:\n",
    "        contador_impares += 1\n",
    "\n",
    "    # Segunda estructura condicional dentro del bucle para establecer si `num_Usuario` es negativo o positivo y sumarlo a su contador correspondiente\n",
    "    if num_Usuario < 0:\n",
    "        contador_negativos += 1\n",
    "    elif num_Usuario > 0:\n",
    "        contador_positivos += 1\n",
    "\n",
    "    # Sumamos 1 al contador para que while siga iterando hasta llegar a límite\n",
    "    contador += 1\n",
    "\n",
    "# Impresión del mensaje final con todos los datos solicitados por la consigna\n",
    "\n",
    "print(f\"De los {limite} números ingresados, {contador_pares} fueron pares; \\n {contador_impares} son impares; \\n {contador_negativos} son negativos y {contador_positivos} son positivos.\")"
   ]
  },
  {
   "cell_type": "markdown",
   "id": "1d932f99",
   "metadata": {},
   "source": [
    "9) Elabora un programa que permita al usuario ingresar 100 números enteros y luego calcule la media de esos valores. (Nota: puedes probar el programa con una cantidad menor, pero debe poder procesar 100 números cambiando solo un valor)."
   ]
  },
  {
   "cell_type": "code",
   "execution_count": null,
   "id": "d0f8f141",
   "metadata": {},
   "outputs": [
    {
     "name": "stdout",
     "output_type": "stream",
     "text": [
      "En base a los 5 números ingresados, el total de su suma es de 31 y la media es de 6.2\n"
     ]
    }
   ],
   "source": [
    "# Inicializamos las variables a utilizar\n",
    "\n",
    "num_Usuario = 0\n",
    "contador = 0\n",
    "suma = 0 \n",
    "\n",
    "# Establecemos la variable `limite` en 100. Solo cambiando este número podemos probar con una cantidad menor si es necesario \n",
    "limite = 100\n",
    "\n",
    "# Inicializamos el bucle while a utilizar. `contador` arranca en 0 inclusive y el `limite` es 100\n",
    "\n",
    "while contador < limite:\n",
    "    # Le pedimos al usuario que ingrese un número dentro del bucle, para que cada vez que itere se le pida hasta llegar a la cantidad `limite`\n",
    "    num_Usuario = int(input(f\"Ingrese un número entero, luego deberás agregar más números hasta llegar a {limite}\"))\n",
    "\n",
    "    # En la variable `suma` se van almacenando cada uno de los `limite` (100) números que se ingresaran\n",
    "    suma += num_Usuario\n",
    "\n",
    "    # Sumamos 1 al contador para que while siga iterando hasta llegar a límite\n",
    "    contador += 1\n",
    "\n",
    "# Variable `media` para almacenar la media / promedio de todos los números ingresados una vez finalizado el bucle\n",
    "media = suma / limite\n",
    "\n",
    "# Impresión del mensaje final con todos los datos solicitados por la consigna\n",
    "\n",
    "print(f\"En base a los {limite} números ingresados, el total de su suma es de {suma} y la media es de {media}\")"
   ]
  },
  {
   "cell_type": "markdown",
   "id": "cd82fc57",
   "metadata": {},
   "source": [
    "10) Escribe un programa que invierta el orden de los dígitos de un número ingresado por el usuario. Ejemplo: si el usuario ingresa 547, el programa debe mostrar 745."
   ]
  },
  {
   "cell_type": "code",
   "execution_count": null,
   "id": "2c6aaf31",
   "metadata": {},
   "outputs": [
    {
     "name": "stdout",
     "output_type": "stream",
     "text": [
      "654321\n"
     ]
    }
   ],
   "source": [
    "# Le solicitamos un número al usuario, pero en realidad directamente lo estamos pasando como texto para poder invertirlo luego con len()\n",
    "\n",
    "numCadena_usuario = str(input(\"Ingresá un número entero positivo: \"))\n",
    "\n",
    "# Inicializamos una variable como cadena (str) vacía, para poder almacenar cada uno de los dígitos del números invertidos\n",
    "cadena_invertida = \"\"\n",
    "\n",
    "# Iniciamos un bucle for para invertir el número. \n",
    "# Si por ejemplo tenemos `547`, el rango va a empezar en 7 (posición [2], que es len(numCadena_usuario) - 1) y va a terminar en 5 (-1, posición [0]), decreciendo con una frecuencia de -1 cada iteración.\n",
    "for i in range(len(numCadena_usuario) - 1, -1, -1):\n",
    "    cadena_invertida += numCadena_usuario[i] \n",
    "    # En `cadena_invertida` + `numCadena_usuario[i]` lo que se está sumando es el caracter por cada posición, es por eso que `cadena_invertida` inicia vacía, para ir sumando los caractéres del número invertido.\n",
    "\n",
    "print(cadena_invertida)"
   ]
  }
 ],
 "metadata": {
  "kernelspec": {
   "display_name": "Python (myenv)",
   "language": "python",
   "name": "myenv"
  },
  "language_info": {
   "codemirror_mode": {
    "name": "ipython",
    "version": 3
   },
   "file_extension": ".py",
   "mimetype": "text/x-python",
   "name": "python",
   "nbconvert_exporter": "python",
   "pygments_lexer": "ipython3",
   "version": "3.11.2"
  }
 },
 "nbformat": 4,
 "nbformat_minor": 5
}
